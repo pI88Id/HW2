{
 "nbformat": 4,
 "nbformat_minor": 0,
 "metadata": {
  "colab": {
   "name": "Copy of Homework2-MLDL.ipynb",
   "provenance": [
    {
     "file_id": "1495rzqiMxfqwqBjaanDwDGN7eOS4oXRX",
     "timestamp": 1588594644780
    },
    {
     "file_id": "1PhNPpklp9FbxJEtsZ8Jp9qXQa4aZDK5Y",
     "timestamp": 1586854223220
    }
   ],
   "collapsed_sections": [],
   "toc_visible": true
  },
  "kernelspec": {
   "name": "pycharm-ca37dc",
   "language": "python",
   "display_name": "PyCharm (HW2)"
  },
  "accelerator": "GPU"
 },
 "cells": [
  {
   "cell_type": "code",
   "metadata": {
    "id": "DokFOdD1dJEl",
    "colab_type": "code",
    "colab": {}
   },
   "source": [
    "import copy\n",
    "import numpy as np\n",
    "import matplotlib.pyplot as plt\n",
    "import os\n",
    "import logging\n",
    "\n",
    "import torch\n",
    "import torch.nn as nn\n",
    "import torch.optim as optim\n",
    "from torch.utils.data import Subset, DataLoader\n",
    "from torch.backends import cudnn\n",
    "\n",
    "import torchvision\n",
    "from torchvision import transforms\n",
    "from torchvision.models import alexnet\n",
    "\n",
    "from PIL import Image\n",
    "from tqdm import tqdm"
   ],
   "execution_count": 1,
   "outputs": []
  },
  {
   "cell_type": "markdown",
   "metadata": {
    "id": "OIDLJuIXK_vh",
    "colab_type": "text"
   },
   "source": [
    "**Set Arguments**"
   ]
  },
  {
   "cell_type": "code",
   "metadata": {
    "id": "d5PkYfqfK_SA",
    "colab_type": "code",
    "colab": {}
   },
   "source": [
    "DEVICE = 'cuda' # 'cuda' or 'cpu'\n",
    "\n",
    "NUM_CLASSES = 101 # 101 + 1: There is am extra Background class that should be removed\n",
    "\n",
    "BATCH_SIZE = 64     # Higher batch sizes allows for larger learning rates. An empirical heuristic suggests that, when changing\n",
    "                     # the batch size, learning rate should change by the same factor to have comparable results\n",
    "\n",
    "LR = 1e-2            # The initial Learning Rate\n",
    "MOMENTUM = 0.9       # Hyperparameter for SGD, keep this at 0.9 when using SGD\n",
    "WEIGHT_DECAY = 5e-5  # Regularization, you can keep this at the default\n",
    "\n",
    "NUM_EPOCHS = 30  #30    # Total number of training epochs (iterations over dataset)\n",
    "STEP_SIZE = 12  #30    # How many epochs before decreasing learning rate (if using a step-down policy)\n",
    "GAMMA = 0.1          # Multiplicative factor for learning rate step-down\n",
    "\n",
    "LOG_FREQUENCY = 10"
   ],
   "execution_count": 2,
   "outputs": []
  },
  {
   "cell_type": "markdown",
   "metadata": {
    "id": "9gwii0TBHvzh",
    "colab_type": "text"
   },
   "source": [
    "**Define Data Preprocessing**"
   ]
  },
  {
   "cell_type": "code",
   "metadata": {
    "id": "QUDdw4j2H0Mc",
    "colab_type": "code",
    "colab": {}
   },
   "source": [
    "# Define transforms for training phase\n",
    "train_transform = transforms.Compose([transforms.Resize(256),      # Resizes short size of the PIL image to 256\n",
    "                                      transforms.CenterCrop(224),  # Crops a central square patch of the image\n",
    "                                                                   # 224 because torchvision's AlexNet needs a 224x224 input!\n",
    "                                                                   # Remember this when applying different transformations, otherwise you get an error\n",
    "                                      transforms.ToTensor(), # Turn PIL Image to torch.Tensor\n",
    "                                      transforms.Normalize((0.5, 0.5, 0.5), (0.5, 0.5, 0.5)) # Normalizes tensor with mean and standard deviation\n",
    "                                    ])\n",
    "\n",
    "# Define transforms for the evaluation phase\n",
    "eval_transform = transforms.Compose([transforms.Resize(256),\n",
    "                                      transforms.CenterCrop(224),\n",
    "                                      transforms.ToTensor(),\n",
    "                                      transforms.Normalize((0.5, 0.5, 0.5), (0.5, 0.5, 0.5))                                    \n",
    "                                    ])"
   ],
   "execution_count": 3,
   "outputs": []
  },
  {
   "cell_type": "markdown",
   "metadata": {
    "id": "2qYIHPzYLY7i",
    "colab_type": "text"
   },
   "source": [
    "**Prepare Dataset**"
   ]
  },
  {
   "cell_type": "code",
   "metadata": {
    "id": "QfVq_uDHLbsR",
    "colab_type": "code",
    "outputId": "e256c03e-8ce4-49ea-d576-e13c5cf37943",
    "executionInfo": {
     "status": "error",
     "timestamp": 1588595184793,
     "user_tz": -120,
     "elapsed": 1558,
     "user": {
      "displayName": "Edoardo Pinna",
      "photoUrl": "https://lh3.googleusercontent.com/a-/AOh14GhD3hpmCtDKV9X0a7rGiQ2t9evyVeYOD9x69IrC=s64",
      "userId": "07286142465517714137"
     }
    },
    "colab": {
     "base_uri": "https://localhost:8080/",
     "height": 134
    }
   },
   "source": [
    "# Clone github repository with data\n",
    "if not os.path.isdir('./Caltech101'):\n",
    "  !git clone https://github.com/MachineLearning2020/Homework2-Caltech101.git\n",
    "  os.rename('Homework2-Caltech101', 'Caltech101')\n",
    "\n",
    "DATA_DIR = 'Caltech101/'\n",
    "from Caltech101.caltech_dataset import Caltech\n",
    "\n",
    "# Prepare Pytorch train/test Datasets\n",
    "dataset = Caltech(DATA_DIR, split='train',  transform=train_transform)\n",
    "test_dataset = Caltech(DATA_DIR, split='test', transform=eval_transform)\n",
    "train_indexes = np.arange(0, int(dataset.__len__()), 2)# split the indices for your train split\n",
    "val_indexes = np.arange(1, int(dataset.__len__()), 2)# split the indices for your val split\n",
    "\n",
    "train_dataset = Subset(dataset, train_indexes)\n",
    "val_dataset = Subset(dataset, val_indexes)\n",
    "\n",
    "# Check dataset sizes\n",
    "print('Train Dataset: {}'.format(len(train_dataset)))\n",
    "print('Valid Dataset: {}'.format(len(val_dataset)))\n",
    "print('Test Dataset: {}'.format(len(test_dataset)))"
   ],
   "execution_count": 4,
   "outputs": [
    {
     "name": "stdout",
     "output_type": "stream",
     "text": [
      "102 ['BACKGROUND_Google', 'Faces', 'Faces_easy', 'Leopards', 'Motorbikes', 'accordion', 'airplanes', 'anchor', 'ant', 'barrel', 'bass', 'beaver', 'binocular', 'bonsai', 'brain', 'brontosaurus', 'buddha', 'butterfly', 'camera', 'cannon', 'car_side', 'ceiling_fan', 'cellphone', 'chair', 'chandelier', 'cougar_body', 'cougar_face', 'crab', 'crayfish', 'crocodile', 'crocodile_head', 'cup', 'dalmatian', 'dollar_bill', 'dolphin', 'dragonfly', 'electric_guitar', 'elephant', 'emu', 'euphonium', 'ewer', 'ferry', 'flamingo', 'flamingo_head', 'garfield', 'gerenuk', 'gramophone', 'grand_piano', 'hawksbill', 'headphone', 'hedgehog', 'helicopter', 'ibis', 'inline_skate', 'joshua_tree', 'kangaroo', 'ketch', 'lamp', 'laptop', 'llama', 'lobster', 'lotus', 'mandolin', 'mayfly', 'menorah', 'metronome', 'minaret', 'nautilus', 'octopus', 'okapi', 'pagoda', 'panda', 'pigeon', 'pizza', 'platypus', 'pyramid', 'revolver', 'rhino', 'rooster', 'saxophone', 'schooner', 'scissors', 'scorpion', 'sea_horse', 'snoopy', 'soccer_ball', 'stapler', 'starfish', 'stegosaurus', 'stop_sign', 'strawberry', 'sunflower', 'tick', 'trilobite', 'umbrella', 'watch', 'water_lilly', 'wheelchair', 'wild_cat', 'windsor_chair', 'wrench', 'yin_yang']\n",
      "101 {'Faces': 1, 'Faces_easy': 2, 'Leopards': 3, 'Motorbikes': 4, 'accordion': 5, 'airplanes': 6, 'anchor': 7, 'ant': 8, 'barrel': 9, 'bass': 10, 'beaver': 11, 'binocular': 12, 'bonsai': 13, 'brain': 14, 'brontosaurus': 15, 'buddha': 16, 'butterfly': 17, 'camera': 18, 'cannon': 19, 'car_side': 20, 'ceiling_fan': 21, 'cellphone': 22, 'chair': 23, 'chandelier': 24, 'cougar_body': 25, 'cougar_face': 26, 'crab': 27, 'crayfish': 28, 'crocodile': 29, 'crocodile_head': 30, 'cup': 31, 'dalmatian': 32, 'dollar_bill': 33, 'dolphin': 34, 'dragonfly': 35, 'electric_guitar': 36, 'elephant': 37, 'emu': 38, 'euphonium': 39, 'ewer': 40, 'ferry': 41, 'flamingo': 42, 'flamingo_head': 43, 'garfield': 44, 'gerenuk': 45, 'gramophone': 46, 'grand_piano': 47, 'hawksbill': 48, 'headphone': 49, 'hedgehog': 50, 'helicopter': 51, 'ibis': 52, 'inline_skate': 53, 'joshua_tree': 54, 'kangaroo': 55, 'ketch': 56, 'lamp': 57, 'laptop': 58, 'llama': 59, 'lobster': 60, 'lotus': 61, 'mandolin': 62, 'mayfly': 63, 'menorah': 64, 'metronome': 65, 'minaret': 66, 'nautilus': 67, 'octopus': 68, 'okapi': 69, 'pagoda': 70, 'panda': 71, 'pigeon': 72, 'pizza': 73, 'platypus': 74, 'pyramid': 75, 'revolver': 76, 'rhino': 77, 'rooster': 78, 'saxophone': 79, 'schooner': 80, 'scissors': 81, 'scorpion': 82, 'sea_horse': 83, 'snoopy': 84, 'soccer_ball': 85, 'stapler': 86, 'starfish': 87, 'stegosaurus': 88, 'stop_sign': 89, 'strawberry': 90, 'sunflower': 91, 'tick': 92, 'trilobite': 93, 'umbrella': 94, 'watch': 95, 'water_lilly': 96, 'wheelchair': 97, 'wild_cat': 98, 'windsor_chair': 99, 'wrench': 100, 'yin_yang': 101}\n",
      "iterations without BACKGROUND 5784\n",
      "iterations with BACKGROUND 6096\n",
      "Number of images of train = 5784 \n",
      "Number of images of train without BACKGROUND_Google Class = 5784 \n",
      "len 101\n",
      "102 ['BACKGROUND_Google', 'Faces', 'Faces_easy', 'Leopards', 'Motorbikes', 'accordion', 'airplanes', 'anchor', 'ant', 'barrel', 'bass', 'beaver', 'binocular', 'bonsai', 'brain', 'brontosaurus', 'buddha', 'butterfly', 'camera', 'cannon', 'car_side', 'ceiling_fan', 'cellphone', 'chair', 'chandelier', 'cougar_body', 'cougar_face', 'crab', 'crayfish', 'crocodile', 'crocodile_head', 'cup', 'dalmatian', 'dollar_bill', 'dolphin', 'dragonfly', 'electric_guitar', 'elephant', 'emu', 'euphonium', 'ewer', 'ferry', 'flamingo', 'flamingo_head', 'garfield', 'gerenuk', 'gramophone', 'grand_piano', 'hawksbill', 'headphone', 'hedgehog', 'helicopter', 'ibis', 'inline_skate', 'joshua_tree', 'kangaroo', 'ketch', 'lamp', 'laptop', 'llama', 'lobster', 'lotus', 'mandolin', 'mayfly', 'menorah', 'metronome', 'minaret', 'nautilus', 'octopus', 'okapi', 'pagoda', 'panda', 'pigeon', 'pizza', 'platypus', 'pyramid', 'revolver', 'rhino', 'rooster', 'saxophone', 'schooner', 'scissors', 'scorpion', 'sea_horse', 'snoopy', 'soccer_ball', 'stapler', 'starfish', 'stegosaurus', 'stop_sign', 'strawberry', 'sunflower', 'tick', 'trilobite', 'umbrella', 'watch', 'water_lilly', 'wheelchair', 'wild_cat', 'windsor_chair', 'wrench', 'yin_yang']\n",
      "101 {'Faces': 1, 'Faces_easy': 2, 'Leopards': 3, 'Motorbikes': 4, 'accordion': 5, 'airplanes': 6, 'anchor': 7, 'ant': 8, 'barrel': 9, 'bass': 10, 'beaver': 11, 'binocular': 12, 'bonsai': 13, 'brain': 14, 'brontosaurus': 15, 'buddha': 16, 'butterfly': 17, 'camera': 18, 'cannon': 19, 'car_side': 20, 'ceiling_fan': 21, 'cellphone': 22, 'chair': 23, 'chandelier': 24, 'cougar_body': 25, 'cougar_face': 26, 'crab': 27, 'crayfish': 28, 'crocodile': 29, 'crocodile_head': 30, 'cup': 31, 'dalmatian': 32, 'dollar_bill': 33, 'dolphin': 34, 'dragonfly': 35, 'electric_guitar': 36, 'elephant': 37, 'emu': 38, 'euphonium': 39, 'ewer': 40, 'ferry': 41, 'flamingo': 42, 'flamingo_head': 43, 'garfield': 44, 'gerenuk': 45, 'gramophone': 46, 'grand_piano': 47, 'hawksbill': 48, 'headphone': 49, 'hedgehog': 50, 'helicopter': 51, 'ibis': 52, 'inline_skate': 53, 'joshua_tree': 54, 'kangaroo': 55, 'ketch': 56, 'lamp': 57, 'laptop': 58, 'llama': 59, 'lobster': 60, 'lotus': 61, 'mandolin': 62, 'mayfly': 63, 'menorah': 64, 'metronome': 65, 'minaret': 66, 'nautilus': 67, 'octopus': 68, 'okapi': 69, 'pagoda': 70, 'panda': 71, 'pigeon': 72, 'pizza': 73, 'platypus': 74, 'pyramid': 75, 'revolver': 76, 'rhino': 77, 'rooster': 78, 'saxophone': 79, 'schooner': 80, 'scissors': 81, 'scorpion': 82, 'sea_horse': 83, 'snoopy': 84, 'soccer_ball': 85, 'stapler': 86, 'starfish': 87, 'stegosaurus': 88, 'stop_sign': 89, 'strawberry': 90, 'sunflower': 91, 'tick': 92, 'trilobite': 93, 'umbrella': 94, 'watch': 95, 'water_lilly': 96, 'wheelchair': 97, 'wild_cat': 98, 'windsor_chair': 99, 'wrench': 100, 'yin_yang': 101}\n",
      "iterations without BACKGROUND 2893\n",
      "iterations with BACKGROUND 3049\n",
      "Number of images of test = 2893 \n",
      "Number of images of test without BACKGROUND_Google Class = 2893 \n",
      "len 101\n",
      "Train Dataset: 2892\n",
      "Valid Dataset: 2892\n",
      "Test Dataset: 2893\n"
     ]
    }
   ]
  },
  {
   "cell_type": "markdown",
   "metadata": {
    "id": "FYEDQ7Z21ldN",
    "colab_type": "text",
    "pycharm": {
     "name": "#%% md\n"
    }
   },
   "source": [
    "**Prepare Dataloaders**"
   ]
  },
  {
   "cell_type": "code",
   "metadata": {
    "id": "VriRw8SI1nle",
    "colab_type": "code",
    "colab": {}
   },
   "source": [
    "# Dataloaders iterate over pytorch datasets and transparently provide useful functions (e.g. parallelization and shuffling)\n",
    "train_dataloader = DataLoader(train_dataset, batch_size=BATCH_SIZE, shuffle=True, num_workers=4, drop_last=True)\n",
    "val_dataloader = DataLoader(val_dataset, batch_size=int(BATCH_SIZE), shuffle=False, num_workers=4)\n",
    "\n",
    "test_dataloader = DataLoader(test_dataset, batch_size=int(BATCH_SIZE/2), shuffle=False, num_workers=4)"
   ],
   "execution_count": 5,
   "outputs": []
  },
  {
   "cell_type": "markdown",
   "metadata": {
    "id": "gbZ1t5Qs2z4j",
    "colab_type": "text"
   },
   "source": [
    "**Prepare Network**"
   ]
  },
  {
   "cell_type": "code",
   "metadata": {
    "id": "exHUjtXa22DN",
    "colab_type": "code",
    "colab": {}
   },
   "source": [
    "net = alexnet() # Loading AlexNet model\n",
    "\n",
    "# AlexNet has 1000 output neurons, corresponding to the 1000 ImageNet's classes\n",
    "# We need 101 outputs for Caltech-101\n",
    "net.classifier[6] = nn.Linear(4096, NUM_CLASSES) # nn.Linear in pytorch is a fully connected layer\n",
    "                                                 # The convolutional layer is nn.Conv2d\n",
    "\n",
    "# We just changed the last layer of AlexNet with a new fully connected layer with 101 outputs\n",
    "# It is strongly suggested to study torchvision.models.alexnet source code"
   ],
   "execution_count": 6,
   "outputs": []
  },
  {
   "cell_type": "markdown",
   "metadata": {
    "id": "KEyL3H_R4qCf",
    "colab_type": "text"
   },
   "source": [
    "**Prepare Training**"
   ]
  },
  {
   "cell_type": "code",
   "metadata": {
    "id": "9sjq00G94tSc",
    "colab_type": "code",
    "colab": {}
   },
   "source": [
    "# Define loss function\n",
    "criterion = nn.CrossEntropyLoss() # for classification, we use Cross Entropy\n",
    "\n",
    "# Choose parameters to optimize\n",
    "# To access a different set of parameters, you have to access submodules of AlexNet\n",
    "# (nn.Module objects, like AlexNet, implement the Composite Pattern)\n",
    "# e.g.: parameters of the fully connected layers: net.classifier.parameters()\n",
    "# e.g.: parameters of the convolutional layers: look at alexnet's source code ;) \n",
    "parameters_to_optimize = net.parameters() # In this case we optimize over all the parameters of AlexNet\n",
    "\n",
    "# Define optimizer\n",
    "# An optimizer updates the weights based on loss\n",
    "# We use SGD with momentum\n",
    "optimizer = optim.SGD(parameters_to_optimize, lr=LR, momentum=MOMENTUM, weight_decay=WEIGHT_DECAY)\n",
    "\n",
    "# Define scheduler\n",
    "# A scheduler dynamically changes learning rate\n",
    "# The most common schedule is the step(-down), which multiplies learning rate by gamma every STEP_SIZE epochs\n",
    "scheduler = optim.lr_scheduler.StepLR(optimizer, step_size=STEP_SIZE, gamma=GAMMA)"
   ],
   "execution_count": 7,
   "outputs": []
  },
  {
   "cell_type": "markdown",
   "metadata": {
    "id": "AxYUli9d9uYQ",
    "colab_type": "text"
   },
   "source": [
    "**Train with Validation**"
   ]
  },
  {
   "cell_type": "code",
   "metadata": {
    "id": "ZcoQ5fD49yT_",
    "colab_type": "code",
    "colab": {}
   },
   "source": [
    "# By default, everything is loaded to cpu\n",
    "net = net.to(DEVICE) # this will bring the network to GPU if DEVICE is cuda\n",
    "cudnn.benchmark = True # Calling this optimizes runtime\n",
    "\n",
    "current_step = 0\n",
    "best_accuracy = 0\n",
    "loss_vector = []\n",
    "tot_accuracy = []\n",
    "# Start iterating over the epochs\n",
    "for epoch in range(NUM_EPOCHS):\n",
    "  print('Starting epoch {}/{}, LR = {}'.format(epoch+1, NUM_EPOCHS, scheduler.get_lr()))\n",
    "\n",
    "  # Iterate over the dataset\n",
    "  for images, labels in train_dataloader:\n",
    "    # Bring data over the device of choice\n",
    "    images = images.to(DEVICE)\n",
    "    labels = labels.to(DEVICE)\n",
    "\n",
    "    net.train().to(DEVICE) # Sets module in training mode\n",
    "\n",
    "    # PyTorch, by default, accumulates gradients after each backward pass\n",
    "    # We need to manually set the gradients to zero before starting a new iteration\n",
    "    optimizer.zero_grad() # Zero-ing the gradients\n",
    "\n",
    "    # Forward pass to the network\n",
    "    outputs = net(images)\n",
    "\n",
    "    # Compute loss based on output and ground truth\n",
    "    loss = criterion(outputs, labels)\n",
    "\n",
    "    # Log loss\n",
    "    if current_step % LOG_FREQUENCY == 0:\n",
    "      print('Step {}, Loss {}'.format(current_step, loss.item()))\n",
    "\n",
    "    # Compute gradients for each layer and update weights\n",
    "    loss.backward()  # backward pass: computes gradients\n",
    "    optimizer.step() # update weights based on accumulated gradients\n",
    "\n",
    "    current_step += 1\n",
    "\n",
    "  loss_vector.append(loss.item())\n",
    "\n",
    "  # Step the scheduler\n",
    "  scheduler.step()\n",
    "\n",
    "  #VALIDATION\n",
    "  net.train(False) # Set Network to evaluation mode\n",
    "\n",
    "  running_corrects = 0\n",
    "  with torch.no_grad():\n",
    "      for images, labels in tqdm(val_dataloader):\n",
    "        images = images.to(DEVICE)\n",
    "        labels = labels.to(DEVICE)\n",
    "\n",
    "        # Forward Pass\n",
    "        outputs = net(images)\n",
    "\n",
    "        # Get predictions\n",
    "        _, preds = torch.max(outputs.data, 1)\n",
    "\n",
    "        # Update Corrects\n",
    "        running_corrects += torch.sum(preds == labels.data).data.item()\n",
    "  # Calculate Accuracy\n",
    "  accuracy = running_corrects / float(len(val_dataset))\n",
    "  tot_accuracy.append(accuracy)\n",
    "  print('Test Accuracy: {}'.format(accuracy))\n",
    "\n",
    "  if accuracy>best_accuracy:\n",
    "    best_net = copy.deepcopy(net)\n",
    "    best_accuracy=accuracy"
   ],
   "execution_count": 8,
   "outputs": [
    {
     "name": "stderr",
     "output_type": "stream",
     "text": [
      "C:\\Users\\PiC\\anaconda3\\lib\\site-packages\\torch\\optim\\lr_scheduler.py:351: UserWarning: To get the last learning rate computed by the scheduler, please use `get_last_lr()`.\n",
      "  \"please use `get_last_lr()`.\", UserWarning)\n",
      "100%|██████████| 46/46 [00:25<00:00,  1.79it/s]\n",
      "100%|██████████| 46/46 [00:23<00:00,  1.97it/s]\n",
      "100%|██████████| 46/46 [00:23<00:00,  1.96it/s]\n",
      "100%|██████████| 46/46 [00:24<00:00,  1.88it/s]\n",
      "100%|██████████| 46/46 [00:22<00:00,  2.00it/s]\n",
      "100%|██████████| 46/46 [00:23<00:00,  1.99it/s]\n",
      "100%|██████████| 46/46 [00:22<00:00,  2.03it/s]\n",
      "100%|██████████| 46/46 [00:22<00:00,  2.02it/s]\n",
      "100%|██████████| 46/46 [00:22<00:00,  2.05it/s]\n",
      "100%|██████████| 46/46 [00:23<00:00,  1.96it/s]\n",
      "100%|██████████| 46/46 [00:22<00:00,  2.01it/s]\n",
      "100%|██████████| 46/46 [00:22<00:00,  2.00it/s]\n",
      "100%|██████████| 46/46 [00:23<00:00,  1.98it/s]\n",
      "100%|██████████| 46/46 [00:23<00:00,  1.97it/s]\n",
      "100%|██████████| 46/46 [00:23<00:00,  1.98it/s]\n",
      "100%|██████████| 46/46 [00:23<00:00,  1.96it/s]\n",
      "100%|██████████| 46/46 [00:28<00:00,  1.60it/s]\n",
      "100%|██████████| 46/46 [00:23<00:00,  1.93it/s]\n",
      "100%|██████████| 46/46 [00:26<00:00,  1.74it/s]\n",
      "100%|██████████| 46/46 [00:22<00:00,  2.02it/s]\n",
      "100%|██████████| 46/46 [00:21<00:00,  2.11it/s]\n",
      "100%|██████████| 46/46 [00:23<00:00,  1.94it/s]\n",
      "100%|██████████| 46/46 [00:27<00:00,  1.70it/s]\n",
      "100%|██████████| 46/46 [00:27<00:00,  1.70it/s]\n",
      "100%|██████████| 46/46 [00:26<00:00,  1.77it/s]\n",
      "100%|██████████| 46/46 [00:24<00:00,  1.84it/s]\n",
      "100%|██████████| 46/46 [00:21<00:00,  2.10it/s]\n",
      "100%|██████████| 46/46 [00:25<00:00,  1.84it/s]\n",
      "100%|██████████| 46/46 [00:25<00:00,  1.78it/s]\n",
      "100%|██████████| 46/46 [00:23<00:00,  1.95it/s]\n"
     ]
    },
    {
     "name": "stdout",
     "output_type": "stream",
     "text": [
      "Starting epoch 1/30, LR = [0.01]\n",
      "Step 0, Loss 4.611493110656738\n",
      "Step 10, Loss 4.601469039916992\n",
      "Step 20, Loss 4.570390224456787\n",
      "Step 30, Loss 4.535848140716553\n",
      "Step 40, Loss 4.487457275390625\n",
      "Test Accuracy: 0.09197786998616875\n",
      "Starting epoch 2/30, LR = [0.01]\n",
      "Step 50, Loss 4.436537742614746\n",
      "Step 60, Loss 4.336535453796387\n",
      "Step 70, Loss 4.068655014038086\n",
      "Step 80, Loss 4.372592449188232\n",
      "Test Accuracy: 0.09232365145228216\n",
      "Starting epoch 3/30, LR = [0.01]\n",
      "Step 90, Loss 3.92170786857605\n",
      "Step 100, Loss 4.173797130584717\n",
      "Step 110, Loss 4.059725761413574\n",
      "Step 120, Loss 4.070052146911621\n",
      "Step 130, Loss 4.199368476867676\n",
      "Test Accuracy: 0.1545643153526971\n",
      "Starting epoch 4/30, LR = [0.01]\n",
      "Step 140, Loss 4.1050801277160645\n",
      "Step 150, Loss 3.864729404449463\n",
      "Step 160, Loss 3.984816312789917\n",
      "Step 170, Loss 3.7617101669311523\n",
      "Test Accuracy: 0.19813278008298754\n",
      "Starting epoch 5/30, LR = [0.01]\n",
      "Step 180, Loss 3.977074384689331\n",
      "Step 190, Loss 3.5438551902770996\n",
      "Step 200, Loss 3.849362373352051\n",
      "Step 210, Loss 3.8725955486297607\n",
      "Step 220, Loss 3.995591640472412\n",
      "Test Accuracy: 0.22337482710926695\n",
      "Starting epoch 6/30, LR = [0.01]\n",
      "Step 230, Loss 3.464165449142456\n",
      "Step 240, Loss 3.4441018104553223\n",
      "Step 250, Loss 3.611677885055542\n",
      "Step 260, Loss 3.041776180267334\n",
      "Test Accuracy: 0.24619640387275243\n",
      "Starting epoch 7/30, LR = [0.01]\n",
      "Step 270, Loss 3.8184337615966797\n",
      "Step 280, Loss 3.3662667274475098\n",
      "Step 290, Loss 3.720115900039673\n",
      "Step 300, Loss 3.8477015495300293\n",
      "Step 310, Loss 3.5861716270446777\n",
      "Test Accuracy: 0.25069156293222683\n",
      "Starting epoch 8/30, LR = [0.01]\n",
      "Step 320, Loss 3.0993125438690186\n",
      "Step 330, Loss 3.554363965988159\n",
      "Step 340, Loss 3.1810200214385986\n",
      "Step 350, Loss 2.921649694442749\n",
      "Test Accuracy: 0.27385892116182575\n",
      "Starting epoch 9/30, LR = [0.01]\n",
      "Step 360, Loss 2.7771217823028564\n",
      "Step 370, Loss 3.384749174118042\n",
      "Step 380, Loss 3.5444421768188477\n",
      "Step 390, Loss 3.1663787364959717\n",
      "Step 400, Loss 3.476444959640503\n",
      "Test Accuracy: 0.2894190871369295\n",
      "Starting epoch 10/30, LR = [0.01]\n",
      "Step 410, Loss 3.085106134414673\n",
      "Step 420, Loss 3.2000977993011475\n",
      "Step 430, Loss 2.9034929275512695\n",
      "Step 440, Loss 3.5664637088775635\n",
      "Test Accuracy: 0.3153526970954357\n",
      "Starting epoch 11/30, LR = [0.01]\n",
      "Step 450, Loss 2.979412078857422\n",
      "Step 460, Loss 2.860504150390625\n",
      "Step 470, Loss 3.235697031021118\n",
      "Step 480, Loss 2.9601364135742188\n",
      "Step 490, Loss 2.878261089324951\n",
      "Test Accuracy: 0.34232365145228216\n",
      "Starting epoch 12/30, LR = [0.01]\n",
      "Step 500, Loss 2.3388195037841797\n",
      "Step 510, Loss 2.4242336750030518\n",
      "Step 520, Loss 3.2742388248443604\n",
      "Step 530, Loss 2.734269857406616\n",
      "Test Accuracy: 0.37793914246196403\n",
      "Starting epoch 13/30, LR = [0.0001]\n",
      "Step 540, Loss 2.3419904708862305\n",
      "Step 550, Loss 2.375493288040161\n",
      "Step 560, Loss 2.1846063137054443\n",
      "Step 570, Loss 1.9562394618988037\n",
      "Step 580, Loss 2.1499736309051514\n",
      "Test Accuracy: 0.4187413554633472\n",
      "Starting epoch 14/30, LR = [0.001]\n",
      "Step 590, Loss 2.045684337615967\n",
      "Step 600, Loss 2.081217050552368\n",
      "Step 610, Loss 1.9139320850372314\n",
      "Step 620, Loss 2.1920788288116455\n",
      "Test Accuracy: 0.43533886583679116\n",
      "Starting epoch 15/30, LR = [0.001]\n",
      "Step 630, Loss 1.8109148740768433\n",
      "Step 640, Loss 2.0953147411346436\n",
      "Step 650, Loss 1.7479197978973389\n",
      "Step 660, Loss 2.1772964000701904\n",
      "Step 670, Loss 2.007559061050415\n",
      "Test Accuracy: 0.4415629322268326\n",
      "Starting epoch 16/30, LR = [0.001]\n",
      "Step 680, Loss 2.357393264770508\n",
      "Step 690, Loss 2.272716760635376\n",
      "Step 700, Loss 1.8372162580490112\n",
      "Step 710, Loss 1.6088510751724243\n",
      "Test Accuracy: 0.4529737206085754\n",
      "Starting epoch 17/30, LR = [0.001]\n",
      "Step 720, Loss 1.8012624979019165\n",
      "Step 730, Loss 1.8145729303359985\n",
      "Step 740, Loss 1.8021148443222046\n",
      "Step 750, Loss 2.053708553314209\n",
      "Step 760, Loss 1.8190815448760986\n",
      "Test Accuracy: 0.45470262793914246\n",
      "Starting epoch 18/30, LR = [0.001]\n",
      "Step 770, Loss 1.8704476356506348\n",
      "Step 780, Loss 1.5314626693725586\n",
      "Step 790, Loss 1.64654541015625\n",
      "Step 800, Loss 1.609283208847046\n",
      "Test Accuracy: 0.4529737206085754\n",
      "Starting epoch 19/30, LR = [0.001]\n",
      "Step 810, Loss 2.200723171234131\n",
      "Step 820, Loss 1.58077073097229\n",
      "Step 830, Loss 1.5977587699890137\n",
      "Step 840, Loss 1.46734619140625\n",
      "Step 850, Loss 1.578494906425476\n",
      "Test Accuracy: 0.4657676348547718\n",
      "Starting epoch 20/30, LR = [0.001]\n",
      "Step 860, Loss 1.545812726020813\n",
      "Step 870, Loss 1.4613478183746338\n",
      "Step 880, Loss 1.7756341695785522\n",
      "Step 890, Loss 1.5365005731582642\n",
      "Test Accuracy: 0.47441217150760717\n",
      "Starting epoch 21/30, LR = [0.001]\n",
      "Step 900, Loss 1.7673426866531372\n",
      "Step 910, Loss 1.907017469406128\n",
      "Step 920, Loss 1.518389105796814\n",
      "Step 930, Loss 2.003542900085449\n",
      "Step 940, Loss 1.6383025646209717\n",
      "Test Accuracy: 0.4726832641770401\n",
      "Starting epoch 22/30, LR = [0.001]\n",
      "Step 950, Loss 1.9270849227905273\n",
      "Step 960, Loss 1.6284853219985962\n",
      "Step 970, Loss 1.2742748260498047\n",
      "Step 980, Loss 1.4596049785614014\n",
      "Test Accuracy: 0.4809820193637621\n",
      "Starting epoch 23/30, LR = [0.001]\n",
      "Step 990, Loss 1.4459888935089111\n",
      "Step 1000, Loss 1.4735256433486938\n",
      "Step 1010, Loss 1.3174123764038086\n",
      "Step 1020, Loss 1.5568361282348633\n",
      "Step 1030, Loss 1.5593292713165283\n",
      "Test Accuracy: 0.49100968188105115\n",
      "Starting epoch 24/30, LR = [0.001]\n",
      "Step 1040, Loss 1.7084382772445679\n",
      "Step 1050, Loss 1.6443358659744263\n",
      "Step 1060, Loss 1.506125807762146\n",
      "Step 1070, Loss 1.634730577468872\n",
      "Test Accuracy: 0.4920470262793914\n",
      "Starting epoch 25/30, LR = [1e-05]\n",
      "Step 1080, Loss 1.6118541955947876\n",
      "Step 1090, Loss 1.5358285903930664\n",
      "Step 1100, Loss 1.4039998054504395\n",
      "Step 1110, Loss 1.2869288921356201\n",
      "Step 1120, Loss 1.361910104751587\n",
      "Test Accuracy: 0.4975795297372061\n",
      "Starting epoch 26/30, LR = [0.0001]\n",
      "Step 1130, Loss 1.121268391609192\n",
      "Step 1140, Loss 1.4248298406600952\n",
      "Step 1150, Loss 1.2090998888015747\n",
      "Step 1160, Loss 1.272678256034851\n",
      "Test Accuracy: 0.4982710926694329\n",
      "Starting epoch 27/30, LR = [0.0001]\n",
      "Step 1170, Loss 1.3925882577896118\n",
      "Step 1180, Loss 1.4045852422714233\n",
      "Step 1190, Loss 1.3178880214691162\n",
      "Step 1200, Loss 1.424086332321167\n",
      "Step 1210, Loss 1.0588759183883667\n",
      "Test Accuracy: 0.5024204702627939\n",
      "Starting epoch 28/30, LR = [0.0001]\n",
      "Step 1220, Loss 1.131036639213562\n",
      "Step 1230, Loss 1.5712928771972656\n",
      "Step 1240, Loss 1.5136241912841797\n",
      "Step 1250, Loss 1.1985368728637695\n",
      "Test Accuracy: 0.49619640387275243\n",
      "Starting epoch 29/30, LR = [0.0001]\n",
      "Step 1260, Loss 1.2649810314178467\n",
      "Step 1270, Loss 1.40216863155365\n",
      "Step 1280, Loss 1.17842435836792\n",
      "Step 1290, Loss 1.1164706945419312\n",
      "Step 1300, Loss 1.0606387853622437\n",
      "Test Accuracy: 0.49930843706777317\n",
      "Starting epoch 30/30, LR = [0.0001]\n",
      "Step 1310, Loss 1.165143370628357\n",
      "Step 1320, Loss 1.1238007545471191\n",
      "Step 1330, Loss 1.4996933937072754\n",
      "Step 1340, Loss 1.3154422044754028\n",
      "Test Accuracy: 0.5027662517289073\n"
     ]
    }
   ]
  },
  {
   "cell_type": "markdown",
   "source": [
    "**Plots**"
   ],
   "metadata": {
    "collapsed": false,
    "pycharm": {
     "name": "#%% md\n"
    }
   }
  },
  {
   "cell_type": "code",
   "execution_count": 9,
   "outputs": [
    {
     "data": {
      "text/plain": "<Figure size 432x288 with 1 Axes>",
      "image/png": "[encoded data removed]"
     },
     "metadata": {
      "needs_background": "light"
     },
     "output_type": "display_data"
    }
   ],
   "source": [
    "plt.plot(tot_accuracy)\n",
    "plt.plot(loss_vector)\n",
    "plt.show()"
   ],
   "metadata": {
    "collapsed": false,
    "pycharm": {
     "name": "#%%\n"
    }
   }
  },
  {
   "cell_type": "markdown",
   "metadata": {
    "id": "UsHFI-GAJd69",
    "colab_type": "text"
   },
   "source": [
    "**Test**"
   ]
  },
  {
   "cell_type": "code",
   "metadata": {
    "id": "fSHcUqLB5yWO",
    "colab_type": "code",
    "colab": {}
   },
   "source": [
    "net = best_net.to(DEVICE) # this will bring the network to GPU if DEVICE is cuda\n",
    "net.train(False) # Set Network to evaluation mode\n",
    "\n",
    "running_corrects = 0\n",
    "for images, labels in tqdm(test_dataloader):\n",
    "  images = images.to(DEVICE)\n",
    "  labels = labels.to(DEVICE)\n",
    "\n",
    "  # Forward Pass\n",
    "  outputs = net(images)\n",
    "\n",
    "  # Get predictions\n",
    "  _, preds = torch.max(outputs.data, 1)\n",
    "\n",
    "  # Update Corrects\n",
    "  running_corrects += torch.sum(preds == labels.data).data.item()\n",
    "\n",
    "# Calculate Accuracy\n",
    "accuracy = running_corrects / float(len(test_dataset))\n",
    "\n",
    "print('Test Accuracy: {}'.format(accuracy))"
   ],
   "execution_count": 10,
   "outputs": [
    {
     "name": "stderr",
     "output_type": "stream",
     "text": [
      "100%|██████████| 91/91 [00:19<00:00,  4.73it/s]\n"
     ]
    },
    {
     "name": "stdout",
     "output_type": "stream",
     "text": [
      "Test Accuracy: 0.5091600414794332\n"
     ]
    }
   ]
  }
 ]
}