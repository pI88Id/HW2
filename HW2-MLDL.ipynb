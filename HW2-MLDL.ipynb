{
 "cells": [
  {
   "cell_type": "code",
   "execution_count": 1,
   "metadata": {
    "colab": {},
    "colab_type": "code",
    "id": "DokFOdD1dJEl"
   },
   "outputs": [],
   "source": [
    "import copy\n",
    "import numpy as np\n",
    "import pandas as pd\n",
    "import matplotlib.pyplot as plt\n",
    "import os\n",
    "import logging\n",
    "\n",
    "import torch\n",
    "import torch.nn as nn\n",
    "import torch.optim as optim\n",
    "from torch.utils.data import Subset, DataLoader\n",
    "from torch.backends import cudnn\n",
    "\n",
    "import torchvision\n",
    "from torchvision import transforms\n",
    "from torchvision.datasets.vision import StandardTransform\n",
    "from torchvision.models import alexnet\n",
    "from torchvision.models import resnet18\n",
    "\n",
    "from PIL import Image\n",
    "from tqdm import tqdm"
   ]
  },
  {
   "cell_type": "markdown",
   "metadata": {
    "colab_type": "text",
    "id": "OIDLJuIXK_vh"
   },
   "source": [
    "**Set Arguments**"
   ]
  },
  {
   "cell_type": "code",
   "execution_count": 2,
   "metadata": {
    "colab": {},
    "colab_type": "code",
    "id": "d5PkYfqfK_SA"
   },
   "outputs": [],
   "source": [
    "DEVICE = 'cuda' # 'cuda' or 'cpu'\n",
    "\n",
    "NUM_CLASSES = 101 # 101 + 1: There is am extra Background class that should be removed\n",
    "\n",
    "BATCH_SIZE = 64     # Higher batch sizes allows for larger learning rates. An empirical heuristic suggests that, when changing\n",
    "                     # the batch size, learning rate should change by the same factor to have comparable results\n",
    "\n",
    "LR = 1e-2            # The initial Learning Rate\n",
    "MOMENTUM = 0.9       # Hyperparameter for SGD, keep this at 0.9 when using SGD\n",
    "WEIGHT_DECAY = 5e-5  # Regularization, you can keep this at the default\n",
    "\n",
    "NUM_EPOCHS = 25  #30    # Total number of training epochs (iterations over dataset)\n",
    "STEP_SIZE = 12  #30    # How many epochs before decreasing learning rate (if using a step-down policy)\n",
    "GAMMA = 0.1          # Multiplicative factor for learning rate step-down\n",
    "\n",
    "LOG_FREQUENCY = 10"
   ]
  },
  {
   "cell_type": "markdown",
   "metadata": {
    "colab_type": "text",
    "id": "9gwii0TBHvzh"
   },
   "source": [
    "**Define Data Preprocessing**"
   ]
  },
  {
   "cell_type": "code",
   "execution_count": 3,
   "metadata": {
    "colab": {},
    "colab_type": "code",
    "id": "QUDdw4j2H0Mc"
   },
   "outputs": [],
   "source": [
    "# Define transforms for training phase\n",
    "train_transform = transforms.Compose([transforms.Resize(256),      # Resizes short size of the PIL image to 256\n",
    "                                      transforms.CenterCrop(224),  # Crops a central square patch of the image\n",
    "                                                                   # 224 because torchvision's AlexNet needs a 224x224 input!\n",
    "                                                                   # Remember this when applying different transformations, otherwise you get an error\n",
    "                                      # transforms.RandomCrop(224),\n",
    "                                      torchvision.transforms.RandomHorizontalFlip(p=0.5),\n",
    "                                      torchvision.transforms.RandomGrayscale(p=0.1),\n",
    "                                      transforms.ToTensor(), # Turn PIL Image to torch.Tensor\n",
    "                                      #transforms.Normalize((0.5, 0.5, 0.5), (0.5, 0.5, 0.5)) # Normalizes tensor with mean and standard deviation\n",
    "                                      transforms.Normalize((0.485, 0.456, 0.406), (0.229, 0.224, 0.225))  # Mean and Std are provided by the ImageNet documentation\n",
    "                                    ])\n",
    "\n",
    "# Define transforms for the evaluation phase\n",
    "eval_transform = transforms.Compose([transforms.Resize(256),\n",
    "                                      transforms.CenterCrop(224),\n",
    "                                      transforms.ToTensor(),\n",
    "                                      # transforms.Normalize((0.5, 0.5, 0.5), (0.5, 0.5, 0.5))\n",
    "                                      transforms.Normalize((0.485, 0.456, 0.406), (0.229, 0.224, 0.225))\n",
    "                                    ])\n",
    "                                  #torchvision.transforms.RandomHorizontalFlip(p=0.5),\n",
    "                                      #torchvision.transforms.RandomGrayscale(p=0.1),                             # 224 because torchvision's AlexNet needs a 224x224 input!\n",
    "                                      #transforms.TenCrop(224, vertical_flip=False),"
   ]
  },
  {
   "cell_type": "markdown",
   "metadata": {
    "colab_type": "text",
    "id": "2qYIHPzYLY7i"
   },
   "source": [
    "**Prepare Dataset**"
   ]
  },
  {
   "cell_type": "code",
   "execution_count": 4,
   "metadata": {
    "colab": {
     "base_uri": "https://localhost:8080/",
     "height": 134
    },
    "colab_type": "code",
    "executionInfo": {
     "elapsed": 1558,
     "status": "error",
     "timestamp": 1588595184793,
     "user": {
      "displayName": "Edoardo Pinna",
      "photoUrl": "https://lh3.googleusercontent.com/a-/AOh14GhD3hpmCtDKV9X0a7rGiQ2t9evyVeYOD9x69IrC=s64",
      "userId": "07286142465517714137"
     },
     "user_tz": -120
    },
    "id": "QfVq_uDHLbsR",
    "outputId": "e256c03e-8ce4-49ea-d576-e13c5cf37943"
   },
   "outputs": [
    {
     "name": "stdout",
     "output_type": "stream",
     "text": [
      "102 ['BACKGROUND_Google', 'Faces', 'Faces_easy', 'Leopards', 'Motorbikes', 'accordion', 'airplanes', 'anchor', 'ant', 'barrel', 'bass', 'beaver', 'binocular', 'bonsai', 'brain', 'brontosaurus', 'buddha', 'butterfly', 'camera', 'cannon', 'car_side', 'ceiling_fan', 'cellphone', 'chair', 'chandelier', 'cougar_body', 'cougar_face', 'crab', 'crayfish', 'crocodile', 'crocodile_head', 'cup', 'dalmatian', 'dollar_bill', 'dolphin', 'dragonfly', 'electric_guitar', 'elephant', 'emu', 'euphonium', 'ewer', 'ferry', 'flamingo', 'flamingo_head', 'garfield', 'gerenuk', 'gramophone', 'grand_piano', 'hawksbill', 'headphone', 'hedgehog', 'helicopter', 'ibis', 'inline_skate', 'joshua_tree', 'kangaroo', 'ketch', 'lamp', 'laptop', 'llama', 'lobster', 'lotus', 'mandolin', 'mayfly', 'menorah', 'metronome', 'minaret', 'nautilus', 'octopus', 'okapi', 'pagoda', 'panda', 'pigeon', 'pizza', 'platypus', 'pyramid', 'revolver', 'rhino', 'rooster', 'saxophone', 'schooner', 'scissors', 'scorpion', 'sea_horse', 'snoopy', 'soccer_ball', 'stapler', 'starfish', 'stegosaurus', 'stop_sign', 'strawberry', 'sunflower', 'tick', 'trilobite', 'umbrella', 'watch', 'water_lilly', 'wheelchair', 'wild_cat', 'windsor_chair', 'wrench', 'yin_yang']\n",
      "101 {'Faces': 1, 'Faces_easy': 2, 'Leopards': 3, 'Motorbikes': 4, 'accordion': 5, 'airplanes': 6, 'anchor': 7, 'ant': 8, 'barrel': 9, 'bass': 10, 'beaver': 11, 'binocular': 12, 'bonsai': 13, 'brain': 14, 'brontosaurus': 15, 'buddha': 16, 'butterfly': 17, 'camera': 18, 'cannon': 19, 'car_side': 20, 'ceiling_fan': 21, 'cellphone': 22, 'chair': 23, 'chandelier': 24, 'cougar_body': 25, 'cougar_face': 26, 'crab': 27, 'crayfish': 28, 'crocodile': 29, 'crocodile_head': 30, 'cup': 31, 'dalmatian': 32, 'dollar_bill': 33, 'dolphin': 34, 'dragonfly': 35, 'electric_guitar': 36, 'elephant': 37, 'emu': 38, 'euphonium': 39, 'ewer': 40, 'ferry': 41, 'flamingo': 42, 'flamingo_head': 43, 'garfield': 44, 'gerenuk': 45, 'gramophone': 46, 'grand_piano': 47, 'hawksbill': 48, 'headphone': 49, 'hedgehog': 50, 'helicopter': 51, 'ibis': 52, 'inline_skate': 53, 'joshua_tree': 54, 'kangaroo': 55, 'ketch': 56, 'lamp': 57, 'laptop': 58, 'llama': 59, 'lobster': 60, 'lotus': 61, 'mandolin': 62, 'mayfly': 63, 'menorah': 64, 'metronome': 65, 'minaret': 66, 'nautilus': 67, 'octopus': 68, 'okapi': 69, 'pagoda': 70, 'panda': 71, 'pigeon': 72, 'pizza': 73, 'platypus': 74, 'pyramid': 75, 'revolver': 76, 'rhino': 77, 'rooster': 78, 'saxophone': 79, 'schooner': 80, 'scissors': 81, 'scorpion': 82, 'sea_horse': 83, 'snoopy': 84, 'soccer_ball': 85, 'stapler': 86, 'starfish': 87, 'stegosaurus': 88, 'stop_sign': 89, 'strawberry': 90, 'sunflower': 91, 'tick': 92, 'trilobite': 93, 'umbrella': 94, 'watch': 95, 'water_lilly': 96, 'wheelchair': 97, 'wild_cat': 98, 'windsor_chair': 99, 'wrench': 100, 'yin_yang': 101}\n",
      "iterations without BACKGROUND 5784\n",
      "iterations with BACKGROUND 6096\n",
      "Number of images of train = 5784 \n",
      "Number of images of train without BACKGROUND_Google Class = 5784 \n",
      "len 101\n",
      "102 ['BACKGROUND_Google', 'Faces', 'Faces_easy', 'Leopards', 'Motorbikes', 'accordion', 'airplanes', 'anchor', 'ant', 'barrel', 'bass', 'beaver', 'binocular', 'bonsai', 'brain', 'brontosaurus', 'buddha', 'butterfly', 'camera', 'cannon', 'car_side', 'ceiling_fan', 'cellphone', 'chair', 'chandelier', 'cougar_body', 'cougar_face', 'crab', 'crayfish', 'crocodile', 'crocodile_head', 'cup', 'dalmatian', 'dollar_bill', 'dolphin', 'dragonfly', 'electric_guitar', 'elephant', 'emu', 'euphonium', 'ewer', 'ferry', 'flamingo', 'flamingo_head', 'garfield', 'gerenuk', 'gramophone', 'grand_piano', 'hawksbill', 'headphone', 'hedgehog', 'helicopter', 'ibis', 'inline_skate', 'joshua_tree', 'kangaroo', 'ketch', 'lamp', 'laptop', 'llama', 'lobster', 'lotus', 'mandolin', 'mayfly', 'menorah', 'metronome', 'minaret', 'nautilus', 'octopus', 'okapi', 'pagoda', 'panda', 'pigeon', 'pizza', 'platypus', 'pyramid', 'revolver', 'rhino', 'rooster', 'saxophone', 'schooner', 'scissors', 'scorpion', 'sea_horse', 'snoopy', 'soccer_ball', 'stapler', 'starfish', 'stegosaurus', 'stop_sign', 'strawberry', 'sunflower', 'tick', 'trilobite', 'umbrella', 'watch', 'water_lilly', 'wheelchair', 'wild_cat', 'windsor_chair', 'wrench', 'yin_yang']\n",
      "101 {'Faces': 1, 'Faces_easy': 2, 'Leopards': 3, 'Motorbikes': 4, 'accordion': 5, 'airplanes': 6, 'anchor': 7, 'ant': 8, 'barrel': 9, 'bass': 10, 'beaver': 11, 'binocular': 12, 'bonsai': 13, 'brain': 14, 'brontosaurus': 15, 'buddha': 16, 'butterfly': 17, 'camera': 18, 'cannon': 19, 'car_side': 20, 'ceiling_fan': 21, 'cellphone': 22, 'chair': 23, 'chandelier': 24, 'cougar_body': 25, 'cougar_face': 26, 'crab': 27, 'crayfish': 28, 'crocodile': 29, 'crocodile_head': 30, 'cup': 31, 'dalmatian': 32, 'dollar_bill': 33, 'dolphin': 34, 'dragonfly': 35, 'electric_guitar': 36, 'elephant': 37, 'emu': 38, 'euphonium': 39, 'ewer': 40, 'ferry': 41, 'flamingo': 42, 'flamingo_head': 43, 'garfield': 44, 'gerenuk': 45, 'gramophone': 46, 'grand_piano': 47, 'hawksbill': 48, 'headphone': 49, 'hedgehog': 50, 'helicopter': 51, 'ibis': 52, 'inline_skate': 53, 'joshua_tree': 54, 'kangaroo': 55, 'ketch': 56, 'lamp': 57, 'laptop': 58, 'llama': 59, 'lobster': 60, 'lotus': 61, 'mandolin': 62, 'mayfly': 63, 'menorah': 64, 'metronome': 65, 'minaret': 66, 'nautilus': 67, 'octopus': 68, 'okapi': 69, 'pagoda': 70, 'panda': 71, 'pigeon': 72, 'pizza': 73, 'platypus': 74, 'pyramid': 75, 'revolver': 76, 'rhino': 77, 'rooster': 78, 'saxophone': 79, 'schooner': 80, 'scissors': 81, 'scorpion': 82, 'sea_horse': 83, 'snoopy': 84, 'soccer_ball': 85, 'stapler': 86, 'starfish': 87, 'stegosaurus': 88, 'stop_sign': 89, 'strawberry': 90, 'sunflower': 91, 'tick': 92, 'trilobite': 93, 'umbrella': 94, 'watch': 95, 'water_lilly': 96, 'wheelchair': 97, 'wild_cat': 98, 'windsor_chair': 99, 'wrench': 100, 'yin_yang': 101}\n",
      "iterations without BACKGROUND 2893\n",
      "iterations with BACKGROUND 3049\n",
      "Number of images of test = 2893 \n",
      "Number of images of test without BACKGROUND_Google Class = 2893 \n",
      "len 101\n",
      "Train Dataset: 2892\n",
      "Valid Dataset: 2892\n",
      "Test Dataset: 2893\n"
     ]
    }
   ],
   "source": [
    "# Clone github repository with data\n",
    "if not os.path.isdir('./Caltech101'):\n",
    "  !git clone https://github.com/MachineLearning2020/Homework2-Caltech101.git\n",
    "  os.rename('Homework2-Caltech101', 'Caltech101')\n",
    "\n",
    "DATA_DIR = 'Caltech101/'\n",
    "from Caltech101.caltech_dataset import Caltech\n",
    "\n",
    "# Prepare Pytorch train/test Datasets\n",
    "dataset = Caltech(DATA_DIR, split='train',  transform=train_transform)\n",
    "test_dataset = Caltech(DATA_DIR, split='test', transform=eval_transform)\n",
    "train_indexes = np.arange(0, int(dataset.__len__()), 2)# split the indices for your train split\n",
    "val_indexes = np.arange(1, int(dataset.__len__()), 2)# split the indices for your val split\n",
    "\n",
    "train_dataset = Subset(dataset, train_indexes)\n",
    "val_dataset = Subset(dataset, val_indexes)\n",
    "\n",
    "# Check dataset sizes\n",
    "print('Train Dataset: {}'.format(len(train_dataset)))\n",
    "print('Valid Dataset: {}'.format(len(val_dataset)))\n",
    "print('Test Dataset: {}'.format(len(test_dataset)))"
   ]
  },
  {
   "cell_type": "markdown",
   "metadata": {
    "colab_type": "text",
    "id": "FYEDQ7Z21ldN",
    "pycharm": {
     "name": "#%% md\n"
    }
   },
   "source": [
    "**Prepare Dataloaders**"
   ]
  },
  {
   "cell_type": "code",
   "execution_count": 5,
   "metadata": {
    "colab": {},
    "colab_type": "code",
    "id": "VriRw8SI1nle"
   },
   "outputs": [],
   "source": [
    "# Dataloaders iterate over pytorch datasets and transparently provide useful functions (e.g. parallelization and shuffling)\n",
    "train_dataloader = DataLoader(train_dataset, batch_size=BATCH_SIZE, shuffle=True, num_workers=4, drop_last=True)\n",
    "val_dataloader = DataLoader(val_dataset, batch_size=int(BATCH_SIZE), shuffle=False, num_workers=4)\n",
    "test_dataloader = DataLoader(test_dataset, batch_size=int(BATCH_SIZE/2), shuffle=False, num_workers=4) #Batch_size decrease for GPU ram problems"
   ]
  },
  {
   "cell_type": "markdown",
   "metadata": {
    "colab_type": "text",
    "id": "gbZ1t5Qs2z4j"
   },
   "source": [
    "**Prepare Network**"
   ]
  },
  {
   "cell_type": "code",
   "execution_count": 6,
   "metadata": {
    "colab": {},
    "colab_type": "code",
    "id": "exHUjtXa22DN"
   },
   "outputs": [],
   "source": [
    "# net = alexnet(pretrained=True, progress=True) # Loading AlexNet model\n",
    "net = resnet18(pretrained=True)\n",
    "# best_net = alexnet()\n",
    "best_net = resnet18()\n",
    "# AlexNet has 1000 output neurons, corresponding to the 1000 ImageNet's classes\n",
    "# We need 101 outputs for Caltech-101\n",
    "\n",
    "#\n",
    "# net.classifier[6] = nn.Linear(4096, NUM_CLASSES) # nn.Linear in pytorch is a fully connected layer\n",
    "                                                 # The convolutional layer is nn.Conv2d\n",
    "net.fc = nn.Linear(net.fc.in_features, NUM_CLASSES)\n",
    "# for i, (name, param) in enumerate(net.named_parameters()):\n",
    "#   print(i, name)\n",
    "#   if i < 60:  param.requires_grad = False\n",
    "# We just changed the last layer of AlexNet with a new fully connected layer with 101 outputs\n",
    "# It is strongly suggested to study torchvision.models.alexnet source code"
   ]
  },
  {
   "cell_type": "markdown",
   "metadata": {
    "colab_type": "text",
    "id": "KEyL3H_R4qCf"
   },
   "source": [
    "**Prepare Training**"
   ]
  },
  {
   "cell_type": "code",
   "execution_count": 7,
   "metadata": {
    "colab": {},
    "colab_type": "code",
    "id": "9sjq00G94tSc"
   },
   "outputs": [],
   "source": [
    "# Define loss function\n",
    "criterion = nn.CrossEntropyLoss() # for classification, we use Cross Entropy\n",
    "\n",
    "# Choose parameters to optimize\n",
    "# To access a different set of parameters, you have to access submodules of AlexNet\n",
    "# (nn.Module objects, like AlexNet, implement the Composite Pattern)\n",
    "# e.g.: parameters of the fully connected layers: net.classifier.parameters()\n",
    "# e.g.: parameters of the convolutional layers: look at alexnet's source code ;) \n",
    "parameters_to_optimize = net.parameters() # In this case we optimize over all the parameters of AlexNet\n",
    "\n",
    "# Define optimizer\n",
    "# An optimizer updates the weights based on loss\n",
    "# We use SGD with momentum\n",
    "\n",
    "optimizer = optim.SGD(parameters_to_optimize, lr=LR, momentum=MOMENTUM, weight_decay=WEIGHT_DECAY)\n",
    "# optimizer = optim.Adam(parameters_to_optimize, lr=LR, weight_decay=WEIGHT_DECAY)\n",
    "\n",
    "# Define scheduler\n",
    "# A scheduler dynamically changes learning rate\n",
    "# The most common schedule is the step(-down), which multiplies learning rate by gamma every STEP_SIZE epochs\n",
    "scheduler = optim.lr_scheduler.StepLR(optimizer, step_size=STEP_SIZE, gamma=GAMMA)"
   ]
  },
  {
   "cell_type": "markdown",
   "metadata": {
    "colab_type": "text",
    "id": "AxYUli9d9uYQ"
   },
   "source": [
    "**Train with Validation**"
   ]
  },
  {
   "cell_type": "code",
   "execution_count": 8,
   "metadata": {
    "colab": {},
    "colab_type": "code",
    "id": "ZcoQ5fD49yT_"
   },
   "outputs": [
    {
     "name": "stderr",
     "output_type": "stream",
     "text": [
      "C:\\Users\\PiC\\anaconda3\\lib\\site-packages\\torch\\optim\\lr_scheduler.py:351: UserWarning: To get the last learning rate computed by the scheduler, please use `get_last_lr()`.\n",
      "  \"please use `get_last_lr()`.\", UserWarning)\n",
      "100%|██████████| 46/46 [00:32<00:00,  1.41it/s]\n",
      "100%|██████████| 46/46 [00:24<00:00,  1.88it/s]\n",
      "100%|██████████| 46/46 [00:25<00:00,  1.78it/s]\n",
      "100%|██████████| 46/46 [00:26<00:00,  1.74it/s]\n",
      "100%|██████████| 46/46 [00:25<00:00,  1.80it/s]\n",
      "100%|██████████| 46/46 [00:24<00:00,  1.91it/s]\n",
      "100%|██████████| 46/46 [00:23<00:00,  1.92it/s]\n",
      "100%|██████████| 46/46 [00:24<00:00,  1.91it/s]\n",
      "100%|██████████| 46/46 [00:24<00:00,  1.91it/s]\n",
      "100%|██████████| 46/46 [00:23<00:00,  1.97it/s]\n",
      "100%|██████████| 46/46 [00:23<00:00,  1.97it/s]\n",
      "100%|██████████| 46/46 [00:26<00:00,  1.77it/s]\n",
      "100%|██████████| 46/46 [00:24<00:00,  1.84it/s]\n",
      "100%|██████████| 46/46 [00:24<00:00,  1.86it/s]\n",
      "100%|██████████| 46/46 [00:23<00:00,  1.96it/s]\n",
      "100%|██████████| 46/46 [00:23<00:00,  1.93it/s]\n",
      "100%|██████████| 46/46 [00:23<00:00,  1.93it/s]\n",
      "100%|██████████| 46/46 [00:24<00:00,  1.92it/s]\n",
      "100%|██████████| 46/46 [00:23<00:00,  1.98it/s]\n",
      "100%|██████████| 46/46 [00:24<00:00,  1.85it/s]\n",
      "100%|██████████| 46/46 [00:23<00:00,  1.96it/s]\n",
      "100%|██████████| 46/46 [00:22<00:00,  2.05it/s]\n",
      "100%|██████████| 46/46 [00:22<00:00,  2.07it/s]\n",
      "100%|██████████| 46/46 [00:22<00:00,  2.04it/s]\n",
      "100%|██████████| 46/46 [00:24<00:00,  1.88it/s]\n"
     ]
    },
    {
     "name": "stdout",
     "output_type": "stream",
     "text": [
      "Starting epoch 1/25, LR = [0.01]\n",
      "Step 0, Loss 4.879456996917725\n",
      "Step 10, Loss 3.1729073524475098\n",
      "Step 20, Loss 2.320667266845703\n",
      "Step 30, Loss 1.7709934711456299\n",
      "Step 40, Loss 1.4392600059509277\n",
      "Test Accuracy: 0.7731673582295989\n",
      "Starting epoch 2/25, LR = [0.01]\n",
      "Step 50, Loss 0.8165661096572876\n",
      "Step 60, Loss 0.6049585938453674\n",
      "Step 70, Loss 0.45363283157348633\n",
      "Step 80, Loss 0.5735340714454651\n",
      "Test Accuracy: 0.8941908713692946\n",
      "Starting epoch 3/25, LR = [0.01]\n",
      "Step 90, Loss 0.1219184398651123\n",
      "Step 100, Loss 0.1812618374824524\n",
      "Step 110, Loss 0.20115475356578827\n",
      "Step 120, Loss 0.15408480167388916\n",
      "Step 130, Loss 0.2329975962638855\n",
      "Test Accuracy: 0.9135546334716459\n",
      "Starting epoch 4/25, LR = [0.01]\n",
      "Step 140, Loss 0.06282731890678406\n",
      "Step 150, Loss 0.07292552292346954\n",
      "Step 160, Loss 0.08646456897258759\n",
      "Step 170, Loss 0.08342024683952332\n",
      "Test Accuracy: 0.9142461964038727\n",
      "Starting epoch 5/25, LR = [0.01]\n",
      "Step 180, Loss 0.07818041741847992\n",
      "Step 190, Loss 0.03083818405866623\n",
      "Step 200, Loss 0.1689099371433258\n",
      "Step 210, Loss 0.15310049057006836\n",
      "Step 220, Loss 0.02884795516729355\n",
      "Test Accuracy: 0.9322268326417704\n",
      "Starting epoch 6/25, LR = [0.01]\n",
      "Step 230, Loss 0.03132163733243942\n",
      "Step 240, Loss 0.031997837126255035\n",
      "Step 250, Loss 0.04935836046934128\n",
      "Step 260, Loss 0.11296072602272034\n",
      "Test Accuracy: 0.9346473029045643\n",
      "Starting epoch 7/25, LR = [0.01]\n",
      "Step 270, Loss 0.02094350755214691\n",
      "Step 280, Loss 0.03580144792795181\n",
      "Step 290, Loss 0.028711706399917603\n",
      "Step 300, Loss 0.014723047614097595\n",
      "Step 310, Loss 0.026332587003707886\n",
      "Test Accuracy: 0.9356846473029046\n",
      "Starting epoch 8/25, LR = [0.01]\n",
      "Step 320, Loss 0.01586759090423584\n",
      "Step 330, Loss 0.014689460396766663\n",
      "Step 340, Loss 0.015686139464378357\n",
      "Step 350, Loss 0.013787463307380676\n",
      "Test Accuracy: 0.9322268326417704\n",
      "Starting epoch 9/25, LR = [0.01]\n",
      "Step 360, Loss 0.039523154497146606\n",
      "Step 370, Loss 0.018785491585731506\n",
      "Step 380, Loss 0.010434865951538086\n",
      "Step 390, Loss 0.04665495455265045\n",
      "Step 400, Loss 0.017395630478858948\n",
      "Test Accuracy: 0.9311894882434302\n",
      "Starting epoch 10/25, LR = [0.01]\n",
      "Step 410, Loss 0.011293426156044006\n",
      "Step 420, Loss 0.005313605070114136\n",
      "Step 430, Loss 0.02113640308380127\n",
      "Step 440, Loss 0.014860205352306366\n",
      "Test Accuracy: 0.9374135546334716\n",
      "Starting epoch 11/25, LR = [0.01]\n",
      "Step 450, Loss 0.009725436568260193\n",
      "Step 460, Loss 0.007881909608840942\n",
      "Step 470, Loss 0.0062369704246521\n",
      "Step 480, Loss 0.01579892635345459\n",
      "Step 490, Loss 0.031763263046741486\n",
      "Test Accuracy: 0.9363762102351314\n",
      "Starting epoch 12/25, LR = [0.01]\n",
      "Step 500, Loss 0.023345842957496643\n",
      "Step 510, Loss 0.011905297636985779\n",
      "Step 520, Loss 0.010980844497680664\n",
      "Step 530, Loss 0.011197611689567566\n",
      "Test Accuracy: 0.9336099585062241\n",
      "Starting epoch 13/25, LR = [0.0001]\n",
      "Step 540, Loss 0.0047330111265182495\n",
      "Step 550, Loss 0.007344081997871399\n",
      "Step 560, Loss 0.004387617111206055\n",
      "Step 570, Loss 0.04388343542814255\n",
      "Step 580, Loss 0.0072363317012786865\n",
      "Test Accuracy: 0.9374135546334716\n",
      "Starting epoch 14/25, LR = [0.001]\n",
      "Step 590, Loss 0.043769508600234985\n",
      "Step 600, Loss 0.006445705890655518\n",
      "Step 610, Loss 0.006631448864936829\n",
      "Step 620, Loss 0.006674319505691528\n",
      "Test Accuracy: 0.9381051175656985\n",
      "Starting epoch 15/25, LR = [0.001]\n",
      "Step 630, Loss 0.007885351777076721\n",
      "Step 640, Loss 0.007074117660522461\n",
      "Step 650, Loss 0.011615753173828125\n",
      "Step 660, Loss 0.010884203016757965\n",
      "Step 670, Loss 0.00475059449672699\n",
      "Test Accuracy: 0.9374135546334716\n",
      "Starting epoch 16/25, LR = [0.001]\n",
      "Step 680, Loss 0.004990220069885254\n",
      "Step 690, Loss 0.03341556340456009\n",
      "Step 700, Loss 0.005542159080505371\n",
      "Step 710, Loss 0.004645362496376038\n",
      "Test Accuracy: 0.940179806362379\n",
      "Starting epoch 17/25, LR = [0.001]\n",
      "Step 720, Loss 0.012798815965652466\n",
      "Step 730, Loss 0.0064977556467056274\n",
      "Step 740, Loss 0.008134737610816956\n",
      "Step 750, Loss 0.008520901203155518\n",
      "Step 760, Loss 0.010998204350471497\n",
      "Test Accuracy: 0.9384508990318119\n",
      "Starting epoch 18/25, LR = [0.001]\n",
      "Step 770, Loss 0.006571874022483826\n",
      "Step 780, Loss 0.006317272782325745\n",
      "Step 790, Loss 0.03226342052221298\n",
      "Step 800, Loss 0.0055285245180130005\n",
      "Test Accuracy: 0.9381051175656985\n",
      "Starting epoch 19/25, LR = [0.001]\n",
      "Step 810, Loss 0.005755394697189331\n",
      "Step 820, Loss 0.006897628307342529\n",
      "Step 830, Loss 0.009257212281227112\n",
      "Step 840, Loss 0.00898626446723938\n",
      "Step 850, Loss 0.012799859046936035\n",
      "Test Accuracy: 0.9349930843706777\n",
      "Starting epoch 20/25, LR = [0.001]\n",
      "Step 860, Loss 0.00917576253414154\n",
      "Step 870, Loss 0.00672362744808197\n",
      "Step 880, Loss 0.0236598402261734\n",
      "Step 890, Loss 0.009377598762512207\n",
      "Test Accuracy: 0.9370677731673582\n",
      "Starting epoch 21/25, LR = [0.001]\n",
      "Step 900, Loss 0.007000938057899475\n",
      "Step 910, Loss 0.006132796406745911\n",
      "Step 920, Loss 0.007414311170578003\n",
      "Step 930, Loss 0.007303297519683838\n",
      "Step 940, Loss 0.005372881889343262\n",
      "Test Accuracy: 0.9387966804979253\n",
      "Starting epoch 22/25, LR = [0.001]\n",
      "Step 950, Loss 0.006954997777938843\n",
      "Step 960, Loss 0.006784319877624512\n",
      "Step 970, Loss 0.007195562124252319\n",
      "Step 980, Loss 0.005154505372047424\n",
      "Test Accuracy: 0.9367219917012448\n",
      "Starting epoch 23/25, LR = [0.001]\n",
      "Step 990, Loss 0.006858542561531067\n",
      "Step 1000, Loss 0.008840501308441162\n",
      "Step 1010, Loss 0.005141884088516235\n",
      "Step 1020, Loss 0.00671270489692688\n",
      "Step 1030, Loss 0.010101690888404846\n",
      "Test Accuracy: 0.9398340248962656\n",
      "Starting epoch 24/25, LR = [0.001]\n",
      "Step 1040, Loss 0.013002216815948486\n",
      "Step 1050, Loss 0.008156940340995789\n",
      "Step 1060, Loss 0.008233398199081421\n",
      "Step 1070, Loss 0.005978509783744812\n",
      "Test Accuracy: 0.9384508990318119\n",
      "Starting epoch 25/25, LR = [1e-05]\n",
      "Step 1080, Loss 0.017903365194797516\n",
      "Step 1090, Loss 0.028048887848854065\n",
      "Step 1100, Loss 0.009431958198547363\n",
      "Step 1110, Loss 0.0045443326234817505\n",
      "Step 1120, Loss 0.0064922720193862915\n",
      "Test Accuracy: 0.9422544951590595\n"
     ]
    }
   ],
   "source": [
    "# By default, everything is loaded to cpu\n",
    "net = net.to(DEVICE) # this will bring the network to GPU if DEVICE is cuda\n",
    "cudnn.benchmark = True # Calling this optimizes runtime\n",
    "\n",
    "current_step = 0\n",
    "best_accuracy = 0\n",
    "loss_vector = []\n",
    "loss_val = []\n",
    "acc_train = []\n",
    "tot_accuracy = []\n",
    "# Start iterating over the epochs\n",
    "for epoch in range(NUM_EPOCHS):\n",
    "  print('Starting epoch {}/{}, LR = {}'.format(epoch+1, NUM_EPOCHS, scheduler.get_lr()))\n",
    "  running_correct_train=0\n",
    "  # Iterate over the dataset\n",
    "  for images, labels in train_dataloader:\n",
    "    # Bring data over the device of choice\n",
    "    images = images.to(DEVICE)\n",
    "    labels = labels.to(DEVICE)\n",
    "\n",
    "    net.train().to(DEVICE) # Sets module in training mode\n",
    "\n",
    "    # PyTorch, by default, accumulates gradients after each backward pass\n",
    "    # We need to manually set the gradients to zero before starting a new iteration\n",
    "    optimizer.zero_grad() # Zero-ing the gradients\n",
    "\n",
    "    # Forward pass to the network\n",
    "    outputs = net(images)\n",
    "\n",
    "    #Calc the correct for the graph\n",
    "    _, preds = torch.max(outputs.data, 1)\n",
    "    running_correct_train += torch.sum(preds == labels.data).data.item()\n",
    "\n",
    "    # Compute loss based on output and ground truth\n",
    "    loss = criterion(outputs, labels)\n",
    "\n",
    "    # Log loss\n",
    "    if current_step % LOG_FREQUENCY == 0:\n",
    "      print('Step {}, Loss {}'.format(current_step, loss.item()))\n",
    "\n",
    "    # Compute gradients for each layer and update weights\n",
    "    loss.backward()  # backward pass: computes gradients\n",
    "    optimizer.step() # update weights based on accumulated gradients\n",
    "\n",
    "    current_step += 1\n",
    "\n",
    "  loss_vector.append(loss.item())\n",
    "  acc_train.append(running_correct_train / float(len(val_dataset)))\n",
    "  # Step the scheduler\n",
    "  scheduler.step()\n",
    "\n",
    "  #VALIDATION\n",
    "  net.train(False) # Set Network to evaluation mode\n",
    "\n",
    "  running_corrects = 0\n",
    "  with torch.no_grad():\n",
    "      for images, labels in tqdm(val_dataloader):\n",
    "        images = images.to(DEVICE)\n",
    "        labels = labels.to(DEVICE)\n",
    "\n",
    "        # Forward Pass\n",
    "        outputs = net(images)\n",
    "\n",
    "        # Get predictions\n",
    "        _, preds = torch.max(outputs.data, 1)\n",
    "\n",
    "        # Update Corrects\n",
    "        running_corrects += torch.sum(preds == labels.data).data.item()\n",
    "  # Calculate Accuracy\n",
    "  accuracy = running_corrects / float(len(val_dataset))\n",
    "  loss_val.append(criterion(outputs,labels))\n",
    "  tot_accuracy.append(accuracy)\n",
    "  print('Test Accuracy: {}'.format(accuracy))\n",
    "\n",
    "  if accuracy>best_accuracy:\n",
    "    best_net = copy.deepcopy(net)\n",
    "    best_accuracy=accuracy"
   ]
  },
  {
   "cell_type": "markdown",
   "metadata": {
    "pycharm": {
     "name": "#%% md\n"
    }
   },
   "source": [
    "**Plots**"
   ]
  },
  {
   "cell_type": "code",
   "execution_count": 11,
   "metadata": {
    "pycharm": {
     "name": "#%%\n"
    }
   },
   "outputs": [
    {
     "data": {
      "image/png": "[encoded data removed]",
      "text/plain": [
       "<Figure size 432x288 with 1 Axes>"
      ]
     },
     "metadata": {
      "needs_background": "light"
     },
     "output_type": "display_data"
    },
    {
     "name": "stdout",
     "output_type": "stream",
     "text": [
      "[0.4699170124481328, 0.8810511756569848, 0.9657676348547718, 0.9851313969571232, 0.9892807745504841, 0.9934301521438451, 0.9930843706777317, 0.9930843706777317, 0.9930843706777317, 0.9941217150760719, 0.9944674965421854, 0.9934301521438451, 0.9948132780082988, 0.9944674965421854, 0.995850622406639, 0.9944674965421854, 0.9955048409405256, 0.9948132780082988, 0.9944674965421854, 0.9951590594744122, 0.9948132780082988, 0.9944674965421854, 0.9944674965421854, 0.9948132780082988, 0.9948132780082988]\n",
      "0.9422544951590595\n"
     ]
    },
    {
     "data": {
      "image/png": "[encoded data removed]",
      "text/plain": [
       "<Figure size 432x288 with 1 Axes>"
      ]
     },
     "metadata": {
      "needs_background": "light"
     },
     "output_type": "display_data"
    }
   ],
   "source": [
    "csv_name = 'ResNet18 ConvLFreezed Aug(10crop, greyscale)- BS= %d LR= %e  EPOCHS= %d  STEP= %d' % (BATCH_SIZE, LR, NUM_EPOCHS, STEP_SIZE)\n",
    "pd.DataFrame(tot_accuracy, loss_vector).to_csv('./Results/ %s.csv' % csv_name)\n",
    "tit = 'LossFunction - BATCH_SIZE= %d LR= %f  EPOCHS= %d  STEP_SIZE= %d GAMMA= %f' % (BATCH_SIZE, LR, NUM_EPOCHS, STEP_SIZE,GAMMA)\n",
    "\n",
    "punti=np.arange(1, NUM_EPOCHS, 4)\n",
    "x=np.linspace(1, NUM_EPOCHS, NUM_EPOCHS)\n",
    "plt.plot(x,loss_vector,color='mediumseagreen')\n",
    "plt.plot(x,loss_val,color='darkseagreen')\n",
    "plt.title(tit)\n",
    "plt.xticks(punti)\n",
    "plt.xlabel('epoch')\n",
    "plt.ylabel('loss')\n",
    "plt.legend(['Loss_train','Loss_val'],loc='best')\n",
    "plt.show()\n",
    "tit_2='Accuracy - BATCH_SIZE= %d LR= %f  EPOCHS= %d  STEP_SIZE= %d GAMMA= %f' %(BATCH_SIZE, LR, NUM_EPOCHS, STEP_SIZE,GAMMA)\n",
    "plt.plot(acc_train,color='mediumseagreen')\n",
    "plt.plot(tot_accuracy,color='darkseagreen')\n",
    "plt.legend(['accuracy_train','accuracy_val'],loc='best')\n",
    "plt.title(tit_2)\n",
    "plt.xlabel('epoch')\n",
    "plt.ylabel('accuracy_score')\n",
    "print(acc_train)\n",
    "print(best_accuracy)"
   ]
  },
  {
   "cell_type": "markdown",
   "metadata": {
    "colab_type": "text",
    "id": "UsHFI-GAJd69"
   },
   "source": [
    "**Test**"
   ]
  },
  {
   "cell_type": "code",
   "execution_count": 10,
   "metadata": {
    "colab": {},
    "colab_type": "code",
    "id": "fSHcUqLB5yWO"
   },
   "outputs": [
    {
     "name": "stderr",
     "output_type": "stream",
     "text": [
      "100%|██████████| 91/91 [00:20<00:00,  4.49it/s]\n"
     ]
    },
    {
     "name": "stdout",
     "output_type": "stream",
     "text": [
      "Test Accuracy: 0.9336329070169375\n"
     ]
    }
   ],
   "source": [
    "net = best_net.to(DEVICE) # this will bring the network to GPU if DEVICE is cuda\n",
    "net.train(False) # Set Network to evaluation mode\n",
    "\n",
    "running_corrects = 0\n",
    "for images, labels in tqdm(test_dataloader):\n",
    "  images = images.to(DEVICE)\n",
    "  labels = labels.to(DEVICE)\n",
    "\n",
    "  # Forward Pass\n",
    "  outputs = net(images)\n",
    "\n",
    "  # Get predictions\n",
    "  _, preds = torch.max(outputs.data, 1)\n",
    "\n",
    "  # Update Corrects\n",
    "  running_corrects += torch.sum(preds == labels.data).data.item()\n",
    "\n",
    "# Calculate Accuracy\n",
    "accuracy = running_corrects / float(len(test_dataset))\n",
    "\n",
    "print('Test Accuracy: {}'.format(accuracy))"
   ]
  }
 ],
 "metadata": {
  "accelerator": "GPU",
  "colab": {
   "collapsed_sections": [],
   "name": "Copy of Homework2-MLDL.ipynb",
   "provenance": [
    {
     "file_id": "1495rzqiMxfqwqBjaanDwDGN7eOS4oXRX",
     "timestamp": 1588594644780
    },
    {
     "file_id": "1PhNPpklp9FbxJEtsZ8Jp9qXQa4aZDK5Y",
     "timestamp": 1586854223220
    }
   ],
   "toc_visible": true
  },
  "kernelspec": {
   "display_name": "PyCharm (HW2)",
   "language": "python",
   "name": "pycharm-ca37dc"
  },
  "language_info": {
   "codemirror_mode": {
    "name": "ipython",
    "version": 3
   },
   "file_extension": ".py",
   "mimetype": "text/x-python",
   "name": "python",
   "nbconvert_exporter": "python",
   "pygments_lexer": "ipython3",
   "version": "3.7.6"
  }
 },
 "nbformat": 4,
 "nbformat_minor": 1
}