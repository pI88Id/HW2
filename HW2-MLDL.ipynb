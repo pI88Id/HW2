{
 "nbformat": 4,
 "nbformat_minor": 0,
 "metadata": {
  "colab": {
   "name": "Copy of Homework2-MLDL.ipynb",
   "provenance": [
    {
     "file_id": "1495rzqiMxfqwqBjaanDwDGN7eOS4oXRX",
     "timestamp": 1588594644780
    },
    {
     "file_id": "1PhNPpklp9FbxJEtsZ8Jp9qXQa4aZDK5Y",
     "timestamp": 1586854223220
    }
   ],
   "collapsed_sections": [],
   "toc_visible": true
  },
  "kernelspec": {
   "name": "pycharm-ca37dc",
   "language": "python",
   "display_name": "PyCharm (HW2)"
  },
  "accelerator": "GPU"
 },
 "cells": [
  {
   "cell_type": "code",
   "metadata": {
    "id": "DokFOdD1dJEl",
    "colab_type": "code",
    "colab": {}
   },
   "source": [
    "import copy\n",
    "import numpy as np\n",
    "import pandas as pd\n",
    "import matplotlib.pyplot as plt\n",
    "import os\n",
    "import logging\n",
    "\n",
    "import torch\n",
    "import torch.nn as nn\n",
    "import torch.optim as optim\n",
    "from torch.utils.data import Subset, DataLoader\n",
    "from torch.backends import cudnn\n",
    "\n",
    "import torchvision\n",
    "from torchvision import transforms\n",
    "from torchvision.datasets.vision import StandardTransform\n",
    "from torchvision.models import alexnet\n",
    "\n",
    "from PIL import Image\n",
    "from tqdm import tqdm"
   ],
   "execution_count": 1,
   "outputs": []
  },
  {
   "cell_type": "markdown",
   "metadata": {
    "id": "OIDLJuIXK_vh",
    "colab_type": "text"
   },
   "source": [
    "**Set Arguments**"
   ]
  },
  {
   "cell_type": "code",
   "metadata": {
    "id": "d5PkYfqfK_SA",
    "colab_type": "code",
    "colab": {}
   },
   "source": [
    "DEVICE = 'cuda' # 'cuda' or 'cpu'\n",
    "\n",
    "NUM_CLASSES = 101 # 101 + 1: There is am extra Background class that should be removed\n",
    "\n",
    "BATCH_SIZE = 64     # Higher batch sizes allows for larger learning rates. An empirical heuristic suggests that, when changing\n",
    "                     # the batch size, learning rate should change by the same factor to have comparable results\n",
    "\n",
    "LR = 1e-2            # The initial Learning Rate\n",
    "MOMENTUM = 0.9       # Hyperparameter for SGD, keep this at 0.9 when using SGD\n",
    "WEIGHT_DECAY = 5e-5  # Regularization, you can keep this at the default\n",
    "\n",
    "NUM_EPOCHS = 20  #30    # Total number of training epochs (iterations over dataset)\n",
    "STEP_SIZE = 5  #30    # How many epochs before decreasing learning rate (if using a step-down policy)\n",
    "GAMMA = 0.1          # Multiplicative factor for learning rate step-down\n",
    "\n",
    "LOG_FREQUENCY = 10"
   ],
   "execution_count": 2,
   "outputs": []
  },
  {
   "cell_type": "markdown",
   "metadata": {
    "id": "9gwii0TBHvzh",
    "colab_type": "text"
   },
   "source": [
    "**Define Data Preprocessing**"
   ]
  },
  {
   "cell_type": "code",
   "metadata": {
    "id": "QUDdw4j2H0Mc",
    "colab_type": "code",
    "colab": {}
   },
   "source": [
    "# Define transforms for training phase\n",
    "train_transform = transforms.Compose([transforms.Resize(256),      # Resizes short size of the PIL image to 256\n",
    "                                      transforms.CenterCrop(224),  # Crops a central square patch of the image\n",
    "                                                                   # 224 because torchvision's AlexNet needs a 224x224 input!\n",
    "                                                                   # Remember this when applying different transformations, otherwise you get an error\n",
    "                                      torchvision.transforms.RandomHorizontalFlip(p=0.5),\n",
    "                                      # torchvision.transforms.RandomGrayscale(p=0.1),\n",
    "                                      transforms.ToTensor(), # Turn PIL Image to torch.Tensor\n",
    "                                      #transforms.Normalize((0.5, 0.5, 0.5), (0.5, 0.5, 0.5)) # Normalizes tensor with mean and standard deviation\n",
    "                                      transforms.Normalize((0.485, 0.456, 0.406), (0.229, 0.224, 0.225))  # Mean and Std are provided by the ImageNet documentation\n",
    "                                    ])\n",
    "\n",
    "# Define transforms for the evaluation phase\n",
    "eval_transform = transforms.Compose([transforms.Resize(256),\n",
    "                                      transforms.CenterCrop(224),\n",
    "                                      transforms.ToTensor(),\n",
    "                                      # transforms.Normalize((0.5, 0.5, 0.5), (0.5, 0.5, 0.5))\n",
    "                                      transforms.Normalize((0.485, 0.456, 0.406), (0.229, 0.224, 0.225))\n",
    "                                    ])\n",
    "                                  #torchvision.transforms.RandomHorizontalFlip(p=0.5),\n",
    "                                      #torchvision.transforms.RandomGrayscale(p=0.1),                             # 224 because torchvision's AlexNet needs a 224x224 input!\n",
    "                                      #transforms.TenCrop(224, vertical_flip=False),"
   ],
   "execution_count": 3,
   "outputs": []
  },
  {
   "cell_type": "markdown",
   "metadata": {
    "id": "2qYIHPzYLY7i",
    "colab_type": "text"
   },
   "source": [
    "**Prepare Dataset**"
   ]
  },
  {
   "cell_type": "code",
   "metadata": {
    "id": "QfVq_uDHLbsR",
    "colab_type": "code",
    "outputId": "e256c03e-8ce4-49ea-d576-e13c5cf37943",
    "executionInfo": {
     "status": "error",
     "timestamp": 1588595184793,
     "user_tz": -120,
     "elapsed": 1558,
     "user": {
      "displayName": "Edoardo Pinna",
      "photoUrl": "https://lh3.googleusercontent.com/a-/AOh14GhD3hpmCtDKV9X0a7rGiQ2t9evyVeYOD9x69IrC=s64",
      "userId": "07286142465517714137"
     }
    },
    "colab": {
     "base_uri": "https://localhost:8080/",
     "height": 134
    }
   },
   "source": [
    "# Clone github repository with data\n",
    "if not os.path.isdir('./Caltech101'):\n",
    "  !git clone https://github.com/MachineLearning2020/Homework2-Caltech101.git\n",
    "  os.rename('Homework2-Caltech101', 'Caltech101')\n",
    "\n",
    "DATA_DIR = 'Caltech101/'\n",
    "from Caltech101.caltech_dataset import Caltech\n",
    "\n",
    "# Prepare Pytorch train/test Datasets\n",
    "dataset = Caltech(DATA_DIR, split='train',  transform=train_transform)\n",
    "test_dataset = Caltech(DATA_DIR, split='test', transform=eval_transform)\n",
    "train_indexes = np.arange(0, int(dataset.__len__()), 2)# split the indices for your train split\n",
    "val_indexes = np.arange(1, int(dataset.__len__()), 2)# split the indices for your val split\n",
    "\n",
    "train_dataset = Subset(dataset, train_indexes)\n",
    "val_dataset = Subset(dataset, val_indexes)\n",
    "\n",
    "# Check dataset sizes\n",
    "print('Train Dataset: {}'.format(len(train_dataset)))\n",
    "print('Valid Dataset: {}'.format(len(val_dataset)))\n",
    "print('Test Dataset: {}'.format(len(test_dataset)))"
   ],
   "execution_count": 4,
   "outputs": [
    {
     "name": "stdout",
     "output_type": "stream",
     "text": [
      "102 ['BACKGROUND_Google', 'Faces', 'Faces_easy', 'Leopards', 'Motorbikes', 'accordion', 'airplanes', 'anchor', 'ant', 'barrel', 'bass', 'beaver', 'binocular', 'bonsai', 'brain', 'brontosaurus', 'buddha', 'butterfly', 'camera', 'cannon', 'car_side', 'ceiling_fan', 'cellphone', 'chair', 'chandelier', 'cougar_body', 'cougar_face', 'crab', 'crayfish', 'crocodile', 'crocodile_head', 'cup', 'dalmatian', 'dollar_bill', 'dolphin', 'dragonfly', 'electric_guitar', 'elephant', 'emu', 'euphonium', 'ewer', 'ferry', 'flamingo', 'flamingo_head', 'garfield', 'gerenuk', 'gramophone', 'grand_piano', 'hawksbill', 'headphone', 'hedgehog', 'helicopter', 'ibis', 'inline_skate', 'joshua_tree', 'kangaroo', 'ketch', 'lamp', 'laptop', 'llama', 'lobster', 'lotus', 'mandolin', 'mayfly', 'menorah', 'metronome', 'minaret', 'nautilus', 'octopus', 'okapi', 'pagoda', 'panda', 'pigeon', 'pizza', 'platypus', 'pyramid', 'revolver', 'rhino', 'rooster', 'saxophone', 'schooner', 'scissors', 'scorpion', 'sea_horse', 'snoopy', 'soccer_ball', 'stapler', 'starfish', 'stegosaurus', 'stop_sign', 'strawberry', 'sunflower', 'tick', 'trilobite', 'umbrella', 'watch', 'water_lilly', 'wheelchair', 'wild_cat', 'windsor_chair', 'wrench', 'yin_yang']\n",
      "101 {'Faces': 1, 'Faces_easy': 2, 'Leopards': 3, 'Motorbikes': 4, 'accordion': 5, 'airplanes': 6, 'anchor': 7, 'ant': 8, 'barrel': 9, 'bass': 10, 'beaver': 11, 'binocular': 12, 'bonsai': 13, 'brain': 14, 'brontosaurus': 15, 'buddha': 16, 'butterfly': 17, 'camera': 18, 'cannon': 19, 'car_side': 20, 'ceiling_fan': 21, 'cellphone': 22, 'chair': 23, 'chandelier': 24, 'cougar_body': 25, 'cougar_face': 26, 'crab': 27, 'crayfish': 28, 'crocodile': 29, 'crocodile_head': 30, 'cup': 31, 'dalmatian': 32, 'dollar_bill': 33, 'dolphin': 34, 'dragonfly': 35, 'electric_guitar': 36, 'elephant': 37, 'emu': 38, 'euphonium': 39, 'ewer': 40, 'ferry': 41, 'flamingo': 42, 'flamingo_head': 43, 'garfield': 44, 'gerenuk': 45, 'gramophone': 46, 'grand_piano': 47, 'hawksbill': 48, 'headphone': 49, 'hedgehog': 50, 'helicopter': 51, 'ibis': 52, 'inline_skate': 53, 'joshua_tree': 54, 'kangaroo': 55, 'ketch': 56, 'lamp': 57, 'laptop': 58, 'llama': 59, 'lobster': 60, 'lotus': 61, 'mandolin': 62, 'mayfly': 63, 'menorah': 64, 'metronome': 65, 'minaret': 66, 'nautilus': 67, 'octopus': 68, 'okapi': 69, 'pagoda': 70, 'panda': 71, 'pigeon': 72, 'pizza': 73, 'platypus': 74, 'pyramid': 75, 'revolver': 76, 'rhino': 77, 'rooster': 78, 'saxophone': 79, 'schooner': 80, 'scissors': 81, 'scorpion': 82, 'sea_horse': 83, 'snoopy': 84, 'soccer_ball': 85, 'stapler': 86, 'starfish': 87, 'stegosaurus': 88, 'stop_sign': 89, 'strawberry': 90, 'sunflower': 91, 'tick': 92, 'trilobite': 93, 'umbrella': 94, 'watch': 95, 'water_lilly': 96, 'wheelchair': 97, 'wild_cat': 98, 'windsor_chair': 99, 'wrench': 100, 'yin_yang': 101}\n",
      "iterations without BACKGROUND 5784\n",
      "iterations with BACKGROUND 6096\n",
      "Number of images of train = 5784 \n",
      "Number of images of train without BACKGROUND_Google Class = 5784 \n",
      "len 101\n",
      "102 ['BACKGROUND_Google', 'Faces', 'Faces_easy', 'Leopards', 'Motorbikes', 'accordion', 'airplanes', 'anchor', 'ant', 'barrel', 'bass', 'beaver', 'binocular', 'bonsai', 'brain', 'brontosaurus', 'buddha', 'butterfly', 'camera', 'cannon', 'car_side', 'ceiling_fan', 'cellphone', 'chair', 'chandelier', 'cougar_body', 'cougar_face', 'crab', 'crayfish', 'crocodile', 'crocodile_head', 'cup', 'dalmatian', 'dollar_bill', 'dolphin', 'dragonfly', 'electric_guitar', 'elephant', 'emu', 'euphonium', 'ewer', 'ferry', 'flamingo', 'flamingo_head', 'garfield', 'gerenuk', 'gramophone', 'grand_piano', 'hawksbill', 'headphone', 'hedgehog', 'helicopter', 'ibis', 'inline_skate', 'joshua_tree', 'kangaroo', 'ketch', 'lamp', 'laptop', 'llama', 'lobster', 'lotus', 'mandolin', 'mayfly', 'menorah', 'metronome', 'minaret', 'nautilus', 'octopus', 'okapi', 'pagoda', 'panda', 'pigeon', 'pizza', 'platypus', 'pyramid', 'revolver', 'rhino', 'rooster', 'saxophone', 'schooner', 'scissors', 'scorpion', 'sea_horse', 'snoopy', 'soccer_ball', 'stapler', 'starfish', 'stegosaurus', 'stop_sign', 'strawberry', 'sunflower', 'tick', 'trilobite', 'umbrella', 'watch', 'water_lilly', 'wheelchair', 'wild_cat', 'windsor_chair', 'wrench', 'yin_yang']\n",
      "101 {'Faces': 1, 'Faces_easy': 2, 'Leopards': 3, 'Motorbikes': 4, 'accordion': 5, 'airplanes': 6, 'anchor': 7, 'ant': 8, 'barrel': 9, 'bass': 10, 'beaver': 11, 'binocular': 12, 'bonsai': 13, 'brain': 14, 'brontosaurus': 15, 'buddha': 16, 'butterfly': 17, 'camera': 18, 'cannon': 19, 'car_side': 20, 'ceiling_fan': 21, 'cellphone': 22, 'chair': 23, 'chandelier': 24, 'cougar_body': 25, 'cougar_face': 26, 'crab': 27, 'crayfish': 28, 'crocodile': 29, 'crocodile_head': 30, 'cup': 31, 'dalmatian': 32, 'dollar_bill': 33, 'dolphin': 34, 'dragonfly': 35, 'electric_guitar': 36, 'elephant': 37, 'emu': 38, 'euphonium': 39, 'ewer': 40, 'ferry': 41, 'flamingo': 42, 'flamingo_head': 43, 'garfield': 44, 'gerenuk': 45, 'gramophone': 46, 'grand_piano': 47, 'hawksbill': 48, 'headphone': 49, 'hedgehog': 50, 'helicopter': 51, 'ibis': 52, 'inline_skate': 53, 'joshua_tree': 54, 'kangaroo': 55, 'ketch': 56, 'lamp': 57, 'laptop': 58, 'llama': 59, 'lobster': 60, 'lotus': 61, 'mandolin': 62, 'mayfly': 63, 'menorah': 64, 'metronome': 65, 'minaret': 66, 'nautilus': 67, 'octopus': 68, 'okapi': 69, 'pagoda': 70, 'panda': 71, 'pigeon': 72, 'pizza': 73, 'platypus': 74, 'pyramid': 75, 'revolver': 76, 'rhino': 77, 'rooster': 78, 'saxophone': 79, 'schooner': 80, 'scissors': 81, 'scorpion': 82, 'sea_horse': 83, 'snoopy': 84, 'soccer_ball': 85, 'stapler': 86, 'starfish': 87, 'stegosaurus': 88, 'stop_sign': 89, 'strawberry': 90, 'sunflower': 91, 'tick': 92, 'trilobite': 93, 'umbrella': 94, 'watch': 95, 'water_lilly': 96, 'wheelchair': 97, 'wild_cat': 98, 'windsor_chair': 99, 'wrench': 100, 'yin_yang': 101}\n",
      "iterations without BACKGROUND 2893\n",
      "iterations with BACKGROUND 3049\n",
      "Number of images of test = 2893 \n",
      "Number of images of test without BACKGROUND_Google Class = 2893 \n",
      "len 101\n",
      "Train Dataset: 2892\n",
      "Valid Dataset: 2892\n",
      "Test Dataset: 2893\n"
     ]
    }
   ]
  },
  {
   "cell_type": "markdown",
   "metadata": {
    "id": "FYEDQ7Z21ldN",
    "colab_type": "text",
    "pycharm": {
     "name": "#%% md\n"
    }
   },
   "source": [
    "**Prepare Dataloaders**"
   ]
  },
  {
   "cell_type": "code",
   "metadata": {
    "id": "VriRw8SI1nle",
    "colab_type": "code",
    "colab": {}
   },
   "source": [
    "# Dataloaders iterate over pytorch datasets and transparently provide useful functions (e.g. parallelization and shuffling)\n",
    "train_dataloader = DataLoader(train_dataset, batch_size=BATCH_SIZE, shuffle=True, num_workers=4, drop_last=True)\n",
    "val_dataloader = DataLoader(val_dataset, batch_size=int(BATCH_SIZE), shuffle=False, num_workers=4)\n",
    "test_dataloader = DataLoader(test_dataset, batch_size=int(BATCH_SIZE/2), shuffle=False, num_workers=4) #Batch_size decrease for GPU ram problems"
   ],
   "execution_count": 5,
   "outputs": []
  },
  {
   "cell_type": "markdown",
   "metadata": {
    "id": "gbZ1t5Qs2z4j",
    "colab_type": "text"
   },
   "source": [
    "**Prepare Network**"
   ]
  },
  {
   "cell_type": "code",
   "metadata": {
    "id": "exHUjtXa22DN",
    "colab_type": "code",
    "colab": {}
   },
   "source": [
    "net = alexnet(pretrained=True, progress=True) # Loading AlexNet model\n",
    "# AlexNet has 1000 output neurons, corresponding to the 1000 ImageNet's classes\n",
    "# We need 101 outputs for Caltech-101\n",
    "net.classifier[6] = nn.Linear(4096, NUM_CLASSES) # nn.Linear in pytorch is a fully connected layer\n",
    "                                                 # The convolutional layer is nn.Conv2d\n",
    "i = 0\n",
    "for name, param in net.named_parameters():\n",
    "  print(i, name)\n",
    "  i += 1\n",
    "  if i < 10:\n",
    "    param.requires_grad = False\n",
    "# We just changed the last layer of AlexNet with a new fully connected layer with 101 outputs\n",
    "# It is strongly suggested to study torchvision.models.alexnet source code"
   ],
   "execution_count": 6,
   "outputs": [
    {
     "name": "stdout",
     "output_type": "stream",
     "text": [
      "0 features.0.weight\n",
      "1 features.0.bias\n",
      "2 features.3.weight\n",
      "3 features.3.bias\n",
      "4 features.6.weight\n",
      "5 features.6.bias\n",
      "6 features.8.weight\n",
      "7 features.8.bias\n",
      "8 features.10.weight\n",
      "9 features.10.bias\n",
      "10 classifier.1.weight\n",
      "11 classifier.1.bias\n",
      "12 classifier.4.weight\n",
      "13 classifier.4.bias\n",
      "14 classifier.6.weight\n",
      "15 classifier.6.bias\n"
     ]
    }
   ]
  },
  {
   "cell_type": "markdown",
   "metadata": {
    "id": "KEyL3H_R4qCf",
    "colab_type": "text"
   },
   "source": [
    "**Prepare Training**"
   ]
  },
  {
   "cell_type": "code",
   "metadata": {
    "id": "9sjq00G94tSc",
    "colab_type": "code",
    "colab": {}
   },
   "source": [
    "# Define loss function\n",
    "criterion = nn.CrossEntropyLoss() # for classification, we use Cross Entropy\n",
    "\n",
    "# Choose parameters to optimize\n",
    "# To access a different set of parameters, you have to access submodules of AlexNet\n",
    "# (nn.Module objects, like AlexNet, implement the Composite Pattern)\n",
    "# e.g.: parameters of the fully connected layers: net.classifier.parameters()\n",
    "# e.g.: parameters of the convolutional layers: look at alexnet's source code ;) \n",
    "parameters_to_optimize = net.parameters() # In this case we optimize over all the parameters of AlexNet\n",
    "\n",
    "# Define optimizer\n",
    "# An optimizer updates the weights based on loss\n",
    "# We use SGD with momentum\n",
    "optimizer = optim.SGD(parameters_to_optimize, lr=LR, momentum=MOMENTUM, weight_decay=WEIGHT_DECAY)\n",
    "\n",
    "# Define scheduler\n",
    "# A scheduler dynamically changes learning rate\n",
    "# The most common schedule is the step(-down), which multiplies learning rate by gamma every STEP_SIZE epochs\n",
    "scheduler = optim.lr_scheduler.StepLR(optimizer, step_size=STEP_SIZE, gamma=GAMMA)"
   ],
   "execution_count": 7,
   "outputs": []
  },
  {
   "cell_type": "markdown",
   "metadata": {
    "id": "AxYUli9d9uYQ",
    "colab_type": "text"
   },
   "source": [
    "**Train with Validation**"
   ]
  },
  {
   "cell_type": "code",
   "metadata": {
    "id": "ZcoQ5fD49yT_",
    "colab_type": "code",
    "colab": {},
    "pycharm": {
     "is_executing": true
    }
   },
   "source": [
    "# By default, everything is loaded to cpu\n",
    "net = net.to(DEVICE) # this will bring the network to GPU if DEVICE is cuda\n",
    "cudnn.benchmark = True # Calling this optimizes runtime\n",
    "\n",
    "current_step = 0\n",
    "best_accuracy = 0\n",
    "loss_vector = []\n",
    "tot_accuracy = []\n",
    "# Start iterating over the epochs\n",
    "for epoch in range(NUM_EPOCHS):\n",
    "  print('Starting epoch {}/{}, LR = {}'.format(epoch+1, NUM_EPOCHS, scheduler.get_lr()))\n",
    "\n",
    "  # Iterate over the dataset\n",
    "  for images, labels in train_dataloader:\n",
    "    # Bring data over the device of choice\n",
    "    images = images.to(DEVICE)\n",
    "    labels = labels.to(DEVICE)\n",
    "\n",
    "    net.train().to(DEVICE) # Sets module in training mode\n",
    "\n",
    "    # PyTorch, by default, accumulates gradients after each backward pass\n",
    "    # We need to manually set the gradients to zero before starting a new iteration\n",
    "    optimizer.zero_grad() # Zero-ing the gradients\n",
    "\n",
    "    # Forward pass to the network\n",
    "    outputs = net(images)\n",
    "\n",
    "    # Compute loss based on output and ground truth\n",
    "    loss = criterion(outputs, labels)\n",
    "\n",
    "    # Log loss\n",
    "    if current_step % LOG_FREQUENCY == 0:\n",
    "      print('Step {}, Loss {}'.format(current_step, loss.item()))\n",
    "\n",
    "    # Compute gradients for each layer and update weights\n",
    "    loss.backward()  # backward pass: computes gradients\n",
    "    optimizer.step() # update weights based on accumulated gradients\n",
    "\n",
    "    current_step += 1\n",
    "\n",
    "  loss_vector.append(loss.item())\n",
    "\n",
    "  # Step the scheduler\n",
    "  scheduler.step()\n",
    "\n",
    "  #VALIDATION\n",
    "  net.train(False) # Set Network to evaluation mode\n",
    "\n",
    "  running_corrects = 0\n",
    "  with torch.no_grad():\n",
    "      for images, labels in tqdm(val_dataloader):\n",
    "        images = images.to(DEVICE)\n",
    "        labels = labels.to(DEVICE)\n",
    "\n",
    "        # Forward Pass\n",
    "        outputs = net(images)\n",
    "\n",
    "        # Get predictions\n",
    "        _, preds = torch.max(outputs.data, 1)\n",
    "\n",
    "        # Update Corrects\n",
    "        running_corrects += torch.sum(preds == labels.data).data.item()\n",
    "  # Calculate Accuracy\n",
    "  accuracy = running_corrects / float(len(val_dataset))\n",
    "  tot_accuracy.append(accuracy)\n",
    "  print('Test Accuracy: {}'.format(accuracy))\n",
    "\n",
    "  if accuracy>best_accuracy:\n",
    "    best_net = copy.deepcopy(net)\n",
    "    best_accuracy=accuracy"
   ],
   "execution_count": null,
   "outputs": [
    {
     "name": "stderr",
     "output_type": "stream",
     "text": [
      "C:\\Users\\PiC\\anaconda3\\lib\\site-packages\\torch\\optim\\lr_scheduler.py:351: UserWarning: To get the last learning rate computed by the scheduler, please use `get_last_lr()`.\n",
      "  \"please use `get_last_lr()`.\", UserWarning)\n",
      "100%|██████████| 46/46 [00:50<00:00,  1.09s/it]\n",
      "100%|██████████| 46/46 [00:45<00:00,  1.00it/s]\n",
      "100%|██████████| 46/46 [00:32<00:00,  1.40it/s]\n",
      "100%|██████████| 46/46 [00:28<00:00,  1.60it/s]\n",
      "100%|██████████| 46/46 [00:26<00:00,  1.72it/s]\n",
      "100%|██████████| 46/46 [00:27<00:00,  1.70it/s]\n",
      "100%|██████████| 46/46 [00:23<00:00,  1.94it/s]\n",
      "100%|██████████| 46/46 [00:24<00:00,  1.92it/s]\n"
     ]
    },
    {
     "name": "stdout",
     "output_type": "stream",
     "text": [
      "Starting epoch 1/20, LR = [0.01]\n",
      "Step 0, Loss 4.7787933349609375\n",
      "Step 10, Loss 2.1274704933166504\n",
      "Step 20, Loss 1.3586708307266235\n",
      "Step 30, Loss 0.8724178075790405\n",
      "Step 40, Loss 0.5860453248023987\n",
      "Test Accuracy: 0.80567081604426\n",
      "Starting epoch 2/20, LR = [0.01]\n",
      "Step 50, Loss 0.2412317544221878\n",
      "Step 60, Loss 0.09932801872491837\n",
      "Step 70, Loss 0.35322344303131104\n",
      "Step 80, Loss 0.2973344326019287\n",
      "Test Accuracy: 0.8267634854771784\n",
      "Starting epoch 3/20, LR = [0.01]\n",
      "Step 90, Loss 0.11634223908185959\n",
      "Step 100, Loss 0.07182661443948746\n",
      "Step 110, Loss 0.22190845012664795\n",
      "Step 120, Loss 0.18458791077136993\n",
      "Step 130, Loss 0.046376004815101624\n",
      "Test Accuracy: 0.8295297372060858\n",
      "Starting epoch 4/20, LR = [0.01]\n",
      "Step 140, Loss 0.049115702509880066\n",
      "Step 150, Loss 0.03080637753009796\n",
      "Step 160, Loss 0.029915601015090942\n",
      "Step 170, Loss 0.041597411036491394\n",
      "Test Accuracy: 0.8433609958506224\n",
      "Starting epoch 5/20, LR = [0.01]\n",
      "Step 180, Loss 0.01013963669538498\n",
      "Step 190, Loss 0.009979933500289917\n",
      "Step 200, Loss 0.029750488698482513\n",
      "Step 210, Loss 0.03032330423593521\n",
      "Step 220, Loss 0.024626001715660095\n",
      "Test Accuracy: 0.8399031811894883\n",
      "Starting epoch 6/20, LR = [0.0001]\n",
      "Step 230, Loss 0.06383209675550461\n",
      "Step 240, Loss 0.10725007951259613\n",
      "Step 250, Loss 0.02420029044151306\n",
      "Step 260, Loss 0.02889275550842285\n",
      "Test Accuracy: 0.8426694329183956\n",
      "Starting epoch 7/20, LR = [0.001]\n",
      "Step 270, Loss 0.004579856991767883\n",
      "Step 280, Loss 0.019833460450172424\n",
      "Step 290, Loss 0.047180771827697754\n",
      "Step 300, Loss 0.05035997927188873\n",
      "Step 310, Loss 0.02163885533809662\n",
      "Test Accuracy: 0.8423236514522822\n",
      "Starting epoch 8/20, LR = [0.001]\n",
      "Step 320, Loss 0.013087719678878784\n",
      "Step 330, Loss 0.005242884159088135\n",
      "Step 340, Loss 0.00595402717590332\n",
      "Step 350, Loss 0.003823712468147278\n",
      "Test Accuracy: 0.8426694329183956\n",
      "Starting epoch 9/20, LR = [0.001]\n",
      "Step 360, Loss 0.011045947670936584\n"
     ]
    }
   ]
  },
  {
   "cell_type": "markdown",
   "source": [
    "**Plots**"
   ],
   "metadata": {
    "collapsed": false,
    "pycharm": {
     "name": "#%% md\n"
    }
   }
  },
  {
   "cell_type": "code",
   "execution_count": null,
   "outputs": [],
   "source": [
    "csv_name = 'AlexNet ConvLFreezed Aug(10crop, greyscale)- BS= %d LR= %e  EPOCHS= %d  STEP= %d' % (BATCH_SIZE, LR, NUM_EPOCHS, STEP_SIZE)\n",
    "pd.DataFrame(tot_accuracy, loss_vector).to_csv('./Results/ %s.csv' % csv_name)\n",
    "plt.plot(tot_accuracy)\n",
    "plt.show()\n",
    "plt.plot(loss_vector)\n",
    "plt.show()"
   ],
   "metadata": {
    "collapsed": false,
    "pycharm": {
     "name": "#%%\n",
     "is_executing": true
    }
   }
  },
  {
   "cell_type": "markdown",
   "metadata": {
    "id": "UsHFI-GAJd69",
    "colab_type": "text"
   },
   "source": [
    "**Test**"
   ]
  },
  {
   "cell_type": "code",
   "metadata": {
    "id": "fSHcUqLB5yWO",
    "colab_type": "code",
    "colab": {},
    "pycharm": {
     "is_executing": true
    }
   },
   "source": [
    "net = best_net.to(DEVICE) # this will bring the network to GPU if DEVICE is cuda\n",
    "net.train(False) # Set Network to evaluation mode\n",
    "\n",
    "running_corrects = 0\n",
    "for images, labels in tqdm(test_dataloader):\n",
    "  images = images.to(DEVICE)\n",
    "  labels = labels.to(DEVICE)\n",
    "\n",
    "  # Forward Pass\n",
    "  outputs = net(images)\n",
    "\n",
    "  # Get predictions\n",
    "  _, preds = torch.max(outputs.data, 1)\n",
    "\n",
    "  # Update Corrects\n",
    "  running_corrects += torch.sum(preds == labels.data).data.item()\n",
    "\n",
    "# Calculate Accuracy\n",
    "accuracy = running_corrects / float(len(test_dataset))\n",
    "\n",
    "print('Test Accuracy: {}'.format(accuracy))"
   ],
   "execution_count": null,
   "outputs": []
  }
 ]
}